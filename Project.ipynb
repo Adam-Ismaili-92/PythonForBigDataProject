{
 "cells": [
  {
   "cell_type": "markdown",
   "id": "51ada721",
   "metadata": {},
   "source": [
    "#  Python pour les big data \n",
    "   ## Introduction \n",
    "\n",
    "Bitcoin is a digital currency that operates on a decentralized network, known as the blockchain. It was created in 2009 by an anonymous individual or group of individuals using the pseudonym Satoshi Nakamoto. Bitcoin transactions are recorded on the blockchain, which is a public ledger that keeps track of every transaction that has ever occurred on the network. This makes bitcoin an ideal candidate for Big Data analysis, as there is a wealth of data available on every transaction.\n",
    "\n",
    "The study of Bitcoin using Big Data can be approached in many different ways. One possible area of research is to analyze the transactional data to identify patterns and trends in the use of Bitcoin. This could include looking at the volume of transactions over time, the geographical distribution of Bitcoin usage, and the types of goods and services that are being purchased with Bitcoin.\n",
    "\n",
    "Another potential avenue of study is to examine the network structure of Bitcoin. This could involve analyzing the connections between different nodes on the network, as well as the overall topology of the network. This information could be used to better understand the dynamics of the Bitcoin ecosystem, including the behavior of miners, traders, and other participants.\n",
    "\n",
    "Finally, Big Data techniques could be applied to the study of Bitcoin as a financial asset. This could include analyzing price data to identify patterns and trends, as well as using machine learning algorithms to predict future price movements. By studying Bitcoin in this way, researchers can gain valuable insights into the underlying factors that drive its value and the potential risks and opportunities associated with investing in this emerging asset class.\n",
    "\n",
    "In this Project, we will attempt to look at, in basic form, the different correlation between each data entry and try to better understand bitcoin and it's various properties."
   ]
  },
  {
   "cell_type": "code",
   "execution_count": 33,
   "id": "cc72c872",
   "metadata": {},
   "outputs": [],
   "source": [
    "import os\n",
    "import datetime as dt\n",
    "import pandas as pd\n",
    "import numpy as np\n",
    "from matplotlib import pylab as plt\n",
    "from sklearn.linear_model import LinearRegression\n",
    "import plotly.graph_objs as go\n"
   ]
  },
  {
   "cell_type": "code",
   "execution_count": 8,
   "id": "3ca89905",
   "metadata": {},
   "outputs": [
    {
     "data": {
      "text/html": [
       "<div>\n",
       "<style scoped>\n",
       "    .dataframe tbody tr th:only-of-type {\n",
       "        vertical-align: middle;\n",
       "    }\n",
       "\n",
       "    .dataframe tbody tr th {\n",
       "        vertical-align: top;\n",
       "    }\n",
       "\n",
       "    .dataframe thead th {\n",
       "        text-align: right;\n",
       "    }\n",
       "</style>\n",
       "<table border=\"1\" class=\"dataframe\">\n",
       "  <thead>\n",
       "    <tr style=\"text-align: right;\">\n",
       "      <th></th>\n",
       "      <th>PriceUSD</th>\n",
       "      <th>HashRate</th>\n",
       "    </tr>\n",
       "    <tr>\n",
       "      <th>Date</th>\n",
       "      <th></th>\n",
       "      <th></th>\n",
       "    </tr>\n",
       "  </thead>\n",
       "  <tbody>\n",
       "    <tr>\n",
       "      <th>2015-01-02</th>\n",
       "      <td>315.942732</td>\n",
       "      <td>3.333450e+05</td>\n",
       "    </tr>\n",
       "    <tr>\n",
       "      <th>2015-01-03</th>\n",
       "      <td>285.647310</td>\n",
       "      <td>3.272842e+05</td>\n",
       "    </tr>\n",
       "    <tr>\n",
       "      <th>2015-01-04</th>\n",
       "      <td>263.334575</td>\n",
       "      <td>3.474869e+05</td>\n",
       "    </tr>\n",
       "    <tr>\n",
       "      <th>2015-01-05</th>\n",
       "      <td>275.003852</td>\n",
       "      <td>3.151626e+05</td>\n",
       "    </tr>\n",
       "    <tr>\n",
       "      <th>2015-01-06</th>\n",
       "      <td>287.549521</td>\n",
       "      <td>3.192031e+05</td>\n",
       "    </tr>\n",
       "    <tr>\n",
       "      <th>...</th>\n",
       "      <td>...</td>\n",
       "      <td>...</td>\n",
       "    </tr>\n",
       "    <tr>\n",
       "      <th>2017-06-26</th>\n",
       "      <td>2426.365051</td>\n",
       "      <td>5.023770e+06</td>\n",
       "    </tr>\n",
       "    <tr>\n",
       "      <th>2017-06-27</th>\n",
       "      <td>2530.345536</td>\n",
       "      <td>4.634604e+06</td>\n",
       "    </tr>\n",
       "    <tr>\n",
       "      <th>2017-06-28</th>\n",
       "      <td>2562.792264</td>\n",
       "      <td>5.554450e+06</td>\n",
       "    </tr>\n",
       "    <tr>\n",
       "      <th>2017-06-29</th>\n",
       "      <td>2540.443032</td>\n",
       "      <td>4.245439e+06</td>\n",
       "    </tr>\n",
       "    <tr>\n",
       "      <th>2017-06-30</th>\n",
       "      <td>2452.712064</td>\n",
       "      <td>5.448314e+06</td>\n",
       "    </tr>\n",
       "  </tbody>\n",
       "</table>\n",
       "<p>911 rows × 2 columns</p>\n",
       "</div>"
      ],
      "text/plain": [
       "               PriceUSD      HashRate\n",
       "Date                                 \n",
       "2015-01-02   315.942732  3.333450e+05\n",
       "2015-01-03   285.647310  3.272842e+05\n",
       "2015-01-04   263.334575  3.474869e+05\n",
       "2015-01-05   275.003852  3.151626e+05\n",
       "2015-01-06   287.549521  3.192031e+05\n",
       "...                 ...           ...\n",
       "2017-06-26  2426.365051  5.023770e+06\n",
       "2017-06-27  2530.345536  4.634604e+06\n",
       "2017-06-28  2562.792264  5.554450e+06\n",
       "2017-06-29  2540.443032  4.245439e+06\n",
       "2017-06-30  2452.712064  5.448314e+06\n",
       "\n",
       "[911 rows x 2 columns]"
      ]
     },
     "execution_count": 8,
     "metadata": {},
     "output_type": "execute_result"
    }
   ],
   "source": [
    "df = pd.read_csv(\"timeseries/external.csv\", sep=\",\", index_col=\"date\")\n",
    "df = df.drop(\"Unnamed: 0\", axis=1)\n",
    "df.index.names = [\"Date\"]\n",
    "df"
   ]
  },
  {
   "cell_type": "code",
   "execution_count": 9,
   "id": "5f07f325",
   "metadata": {},
   "outputs": [
    {
     "data": {
      "text/plain": [
       "<Axes: xlabel='Date'>"
      ]
     },
     "execution_count": 9,
     "metadata": {},
     "output_type": "execute_result"
    },
    {
     "data": {
      "image/png": "[encoded data removed]",
      "text/plain": [
       "<Figure size 576x216 with 1 Axes>"
      ]
     },
     "metadata": {
      "needs_background": "light"
     },
     "output_type": "display_data"
    }
   ],
   "source": [
    "df.PriceUSD.plot(figsize=(8, 3))"
   ]
  },
  {
   "cell_type": "code",
   "execution_count": 10,
   "id": "ad6c5860",
   "metadata": {},
   "outputs": [
    {
     "data": {
      "text/plain": [
       "<Axes: xlabel='Date'>"
      ]
     },
     "execution_count": 10,
     "metadata": {},
     "output_type": "execute_result"
    },
    {
     "data": {
      "image/png": "[encoded data removed]",
      "text/plain": [
       "<Figure size 576x216 with 1 Axes>"
      ]
     },
     "metadata": {
      "needs_background": "light"
     },
     "output_type": "display_data"
    }
   ],
   "source": [
    "df.HashRate.plot(figsize=(8, 3))"
   ]
  },
  {
   "cell_type": "code",
   "execution_count": 11,
   "id": "92ee7961",
   "metadata": {},
   "outputs": [
    {
     "data": {
      "text/html": [
       "<div>\n",
       "<style scoped>\n",
       "    .dataframe tbody tr th:only-of-type {\n",
       "        vertical-align: middle;\n",
       "    }\n",
       "\n",
       "    .dataframe tbody tr th {\n",
       "        vertical-align: top;\n",
       "    }\n",
       "\n",
       "    .dataframe thead th {\n",
       "        text-align: right;\n",
       "    }\n",
       "</style>\n",
       "<table border=\"1\" class=\"dataframe\">\n",
       "  <thead>\n",
       "    <tr style=\"text-align: right;\">\n",
       "      <th></th>\n",
       "      <th>PriceUSD</th>\n",
       "      <th>HashRate</th>\n",
       "    </tr>\n",
       "  </thead>\n",
       "  <tbody>\n",
       "    <tr>\n",
       "      <th>PriceUSD</th>\n",
       "      <td>1.000000</td>\n",
       "      <td>0.937447</td>\n",
       "    </tr>\n",
       "    <tr>\n",
       "      <th>HashRate</th>\n",
       "      <td>0.937447</td>\n",
       "      <td>1.000000</td>\n",
       "    </tr>\n",
       "  </tbody>\n",
       "</table>\n",
       "</div>"
      ],
      "text/plain": [
       "          PriceUSD  HashRate\n",
       "PriceUSD  1.000000  0.937447\n",
       "HashRate  0.937447  1.000000"
      ]
     },
     "execution_count": 11,
     "metadata": {},
     "output_type": "execute_result"
    }
   ],
   "source": [
    "# Printing correlations between variables\n",
    "df.corr()"
   ]
  },
  {
   "cell_type": "code",
   "execution_count": 12,
   "id": "60307daf",
   "metadata": {},
   "outputs": [],
   "source": [
    "df = df.reset_index()\n",
    "df[\"Date\"] = pd.to_datetime(df[\"Date\"]).map(dt.datetime.toordinal)"
   ]
  },
  {
   "cell_type": "code",
   "execution_count": 13,
   "id": "03a4d12a",
   "metadata": {},
   "outputs": [
    {
     "name": "stdout",
     "output_type": "stream",
     "text": [
      "y = 1.5963403784515047 * x + -1174364.2202138337\n"
     ]
    },
    {
     "data": {
      "image/png": "[encoded data removed]",
      "text/plain": [
       "<Figure size 432x288 with 1 Axes>"
      ]
     },
     "metadata": {
      "needs_background": "light"
     },
     "output_type": "display_data"
    }
   ],
   "source": [
    "# Creating a Linear Regression model on our data\n",
    "lin = LinearRegression()\n",
    "lin.fit(df[[\"Date\"]], df[\"PriceUSD\"])\n",
    "\n",
    "# Creating a plot\n",
    "ax = df.plot.scatter(x=\"Date\", y=\"PriceUSD\", alpha=.1)\n",
    "ax.plot(df[\"Date\"], lin.predict(df[[\"Date\"]]), c='r')\n",
    "\n",
    "# Printing linear function from our regression\n",
    "print(\"y = \" + str(lin.coef_[0]) + \" * x + \" + str(lin.intercept_))"
   ]
  },
  {
   "cell_type": "code",
   "execution_count": 14,
   "id": "6102fd65",
   "metadata": {},
   "outputs": [
    {
     "name": "stdout",
     "output_type": "stream",
     "text": [
      "           3         2\n",
      "9.578e-06 x - 21.15 x + 1.556e+07 x - 3.817e+12\n"
     ]
    },
    {
     "data": {
      "text/plain": [
       "[<matplotlib.lines.Line2D at 0x7f4494486590>]"
      ]
     },
     "execution_count": 14,
     "metadata": {},
     "output_type": "execute_result"
    },
    {
     "data": {
      "image/png": "[encoded data removed]",
      "text/plain": [
       "<Figure size 432x288 with 1 Axes>"
      ]
     },
     "metadata": {
      "needs_background": "light"
     },
     "output_type": "display_data"
    }
   ],
   "source": [
    "# Creating a Polynomial regression model from our data\n",
    "fit = np.polyfit(df[\"Date\"], df[\"PriceUSD\"], 3)\n",
    "fit1d = np.poly1d(fit)\n",
    "print(fit1d)\n",
    "\n",
    "# Creating a plot\n",
    "plt.plot(df[\"Date\"], df[\"PriceUSD\"], 'o', label='Original data')\n",
    "plt.plot(df[\"Date\"], fit1d(df[\"Date\"]), label='Fitted curve')"
   ]
  },
  {
   "cell_type": "code",
   "execution_count": 15,
   "id": "9901f5fa",
   "metadata": {},
   "outputs": [
    {
     "data": {
      "text/html": [
       "<div>\n",
       "<style scoped>\n",
       "    .dataframe tbody tr th:only-of-type {\n",
       "        vertical-align: middle;\n",
       "    }\n",
       "\n",
       "    .dataframe tbody tr th {\n",
       "        vertical-align: top;\n",
       "    }\n",
       "\n",
       "    .dataframe thead th {\n",
       "        text-align: right;\n",
       "    }\n",
       "</style>\n",
       "<table border=\"1\" class=\"dataframe\">\n",
       "  <thead>\n",
       "    <tr style=\"text-align: right;\">\n",
       "      <th></th>\n",
       "      <th>price_usd</th>\n",
       "      <th>hash_rate</th>\n",
       "      <th>year</th>\n",
       "      <th>month</th>\n",
       "      <th>day</th>\n",
       "      <th>total_fee</th>\n",
       "      <th>total_received_satoshi</th>\n",
       "      <th>total_sent_satoshi</th>\n",
       "      <th>mean_fee_satoshi</th>\n",
       "      <th>mean_feeUSD</th>\n",
       "      <th>...</th>\n",
       "      <th>nb_transactions</th>\n",
       "      <th>nb_payments</th>\n",
       "      <th>mean_nb_inputs</th>\n",
       "      <th>mean_nb_outputs</th>\n",
       "      <th>nb_mining</th>\n",
       "      <th>total_mining_satoshi</th>\n",
       "      <th>newly_created_coins</th>\n",
       "      <th>self_spent_satoshi</th>\n",
       "      <th>total_received</th>\n",
       "      <th>volume_without_self</th>\n",
       "    </tr>\n",
       "    <tr>\n",
       "      <th>Date</th>\n",
       "      <th></th>\n",
       "      <th></th>\n",
       "      <th></th>\n",
       "      <th></th>\n",
       "      <th></th>\n",
       "      <th></th>\n",
       "      <th></th>\n",
       "      <th></th>\n",
       "      <th></th>\n",
       "      <th></th>\n",
       "      <th></th>\n",
       "      <th></th>\n",
       "      <th></th>\n",
       "      <th></th>\n",
       "      <th></th>\n",
       "      <th></th>\n",
       "      <th></th>\n",
       "      <th></th>\n",
       "      <th></th>\n",
       "      <th></th>\n",
       "      <th></th>\n",
       "    </tr>\n",
       "  </thead>\n",
       "  <tbody>\n",
       "    <tr>\n",
       "      <th>2015-01-02</th>\n",
       "      <td>315.942732</td>\n",
       "      <td>3.333450e+05</td>\n",
       "      <td>2015</td>\n",
       "      <td>1</td>\n",
       "      <td>2</td>\n",
       "      <td>1159934218</td>\n",
       "      <td>73370568521080</td>\n",
       "      <td>72955568521080</td>\n",
       "      <td>14978.682808</td>\n",
       "      <td>4.732406e+06</td>\n",
       "      <td>...</td>\n",
       "      <td>77439</td>\n",
       "      <td>257633</td>\n",
       "      <td>2.715557</td>\n",
       "      <td>3.326915</td>\n",
       "      <td>166</td>\n",
       "      <td>416159934218</td>\n",
       "      <td>415000000000</td>\n",
       "      <td>4316724676318</td>\n",
       "      <td>73370568521080</td>\n",
       "      <td>69053843844762</td>\n",
       "    </tr>\n",
       "    <tr>\n",
       "      <th>2015-01-03</th>\n",
       "      <td>285.647310</td>\n",
       "      <td>3.272842e+05</td>\n",
       "      <td>2015</td>\n",
       "      <td>1</td>\n",
       "      <td>3</td>\n",
       "      <td>1196476043</td>\n",
       "      <td>82635189454578</td>\n",
       "      <td>82220189454578</td>\n",
       "      <td>14304.385766</td>\n",
       "      <td>4.086009e+06</td>\n",
       "      <td>...</td>\n",
       "      <td>83644</td>\n",
       "      <td>295618</td>\n",
       "      <td>2.781885</td>\n",
       "      <td>3.534240</td>\n",
       "      <td>166</td>\n",
       "      <td>416196476043</td>\n",
       "      <td>415000000000</td>\n",
       "      <td>5584584356557</td>\n",
       "      <td>82635189454578</td>\n",
       "      <td>77050605098021</td>\n",
       "    </tr>\n",
       "    <tr>\n",
       "      <th>2015-01-04</th>\n",
       "      <td>263.334575</td>\n",
       "      <td>3.474869e+05</td>\n",
       "      <td>2015</td>\n",
       "      <td>1</td>\n",
       "      <td>4</td>\n",
       "      <td>2159195328</td>\n",
       "      <td>115159442449532</td>\n",
       "      <td>114726942449532</td>\n",
       "      <td>25138.199015</td>\n",
       "      <td>6.619757e+06</td>\n",
       "      <td>...</td>\n",
       "      <td>85893</td>\n",
       "      <td>280288</td>\n",
       "      <td>2.770133</td>\n",
       "      <td>3.263223</td>\n",
       "      <td>173</td>\n",
       "      <td>434659195328</td>\n",
       "      <td>432500000000</td>\n",
       "      <td>6554587956125</td>\n",
       "      <td>115159442449532</td>\n",
       "      <td>108604854493407</td>\n",
       "    </tr>\n",
       "    <tr>\n",
       "      <th>2015-01-05</th>\n",
       "      <td>275.003852</td>\n",
       "      <td>3.151626e+05</td>\n",
       "      <td>2015</td>\n",
       "      <td>1</td>\n",
       "      <td>5</td>\n",
       "      <td>1608443040</td>\n",
       "      <td>112439228285641</td>\n",
       "      <td>112051728285641</td>\n",
       "      <td>16955.609622</td>\n",
       "      <td>4.662858e+06</td>\n",
       "      <td>...</td>\n",
       "      <td>94862</td>\n",
       "      <td>286552</td>\n",
       "      <td>2.954471</td>\n",
       "      <td>3.020725</td>\n",
       "      <td>155</td>\n",
       "      <td>389108443040</td>\n",
       "      <td>387500000000</td>\n",
       "      <td>5063695492444</td>\n",
       "      <td>112439228285641</td>\n",
       "      <td>107375532793197</td>\n",
       "    </tr>\n",
       "    <tr>\n",
       "      <th>2015-01-06</th>\n",
       "      <td>287.549521</td>\n",
       "      <td>3.192031e+05</td>\n",
       "      <td>2015</td>\n",
       "      <td>1</td>\n",
       "      <td>6</td>\n",
       "      <td>1296373032</td>\n",
       "      <td>118260758863552</td>\n",
       "      <td>117868258863552</td>\n",
       "      <td>14667.176159</td>\n",
       "      <td>4.217540e+06</td>\n",
       "      <td>...</td>\n",
       "      <td>88386</td>\n",
       "      <td>252571</td>\n",
       "      <td>2.869595</td>\n",
       "      <td>2.857591</td>\n",
       "      <td>157</td>\n",
       "      <td>393796373032</td>\n",
       "      <td>392500000000</td>\n",
       "      <td>4026430543611</td>\n",
       "      <td>118260758863552</td>\n",
       "      <td>114234328319941</td>\n",
       "    </tr>\n",
       "    <tr>\n",
       "      <th>...</th>\n",
       "      <td>...</td>\n",
       "      <td>...</td>\n",
       "      <td>...</td>\n",
       "      <td>...</td>\n",
       "      <td>...</td>\n",
       "      <td>...</td>\n",
       "      <td>...</td>\n",
       "      <td>...</td>\n",
       "      <td>...</td>\n",
       "      <td>...</td>\n",
       "      <td>...</td>\n",
       "      <td>...</td>\n",
       "      <td>...</td>\n",
       "      <td>...</td>\n",
       "      <td>...</td>\n",
       "      <td>...</td>\n",
       "      <td>...</td>\n",
       "      <td>...</td>\n",
       "      <td>...</td>\n",
       "      <td>...</td>\n",
       "      <td>...</td>\n",
       "    </tr>\n",
       "    <tr>\n",
       "      <th>2017-06-26</th>\n",
       "      <td>2426.365051</td>\n",
       "      <td>5.023770e+06</td>\n",
       "      <td>2017</td>\n",
       "      <td>6</td>\n",
       "      <td>26</td>\n",
       "      <td>35993152232</td>\n",
       "      <td>375012739382430</td>\n",
       "      <td>374842739382430</td>\n",
       "      <td>145080.443192</td>\n",
       "      <td>3.520181e+08</td>\n",
       "      <td>...</td>\n",
       "      <td>248091</td>\n",
       "      <td>626222</td>\n",
       "      <td>2.565329</td>\n",
       "      <td>2.524163</td>\n",
       "      <td>136</td>\n",
       "      <td>205993152232</td>\n",
       "      <td>170000000000</td>\n",
       "      <td>14151200557043</td>\n",
       "      <td>375012739382430</td>\n",
       "      <td>360861538825387</td>\n",
       "    </tr>\n",
       "    <tr>\n",
       "      <th>2017-06-27</th>\n",
       "      <td>2530.345536</td>\n",
       "      <td>4.634604e+06</td>\n",
       "      <td>2017</td>\n",
       "      <td>6</td>\n",
       "      <td>27</td>\n",
       "      <td>38384859820</td>\n",
       "      <td>287624055555912</td>\n",
       "      <td>287452805555912</td>\n",
       "      <td>142346.452989</td>\n",
       "      <td>3.601857e+08</td>\n",
       "      <td>...</td>\n",
       "      <td>269658</td>\n",
       "      <td>747924</td>\n",
       "      <td>2.314862</td>\n",
       "      <td>2.773602</td>\n",
       "      <td>137</td>\n",
       "      <td>209634859820</td>\n",
       "      <td>171250000000</td>\n",
       "      <td>19821969138631</td>\n",
       "      <td>287624055555912</td>\n",
       "      <td>267802086417281</td>\n",
       "    </tr>\n",
       "    <tr>\n",
       "      <th>2017-06-28</th>\n",
       "      <td>2562.792264</td>\n",
       "      <td>5.554450e+06</td>\n",
       "      <td>2017</td>\n",
       "      <td>6</td>\n",
       "      <td>28</td>\n",
       "      <td>38663204682</td>\n",
       "      <td>282904720130478</td>\n",
       "      <td>282717220130478</td>\n",
       "      <td>140744.451983</td>\n",
       "      <td>3.606988e+08</td>\n",
       "      <td>...</td>\n",
       "      <td>274705</td>\n",
       "      <td>686018</td>\n",
       "      <td>2.471178</td>\n",
       "      <td>2.497290</td>\n",
       "      <td>150</td>\n",
       "      <td>226163204682</td>\n",
       "      <td>187500000000</td>\n",
       "      <td>10958737629631</td>\n",
       "      <td>282904720130478</td>\n",
       "      <td>271945982500847</td>\n",
       "    </tr>\n",
       "    <tr>\n",
       "      <th>2017-06-29</th>\n",
       "      <td>2540.443032</td>\n",
       "      <td>4.245439e+06</td>\n",
       "      <td>2017</td>\n",
       "      <td>6</td>\n",
       "      <td>29</td>\n",
       "      <td>33153365173</td>\n",
       "      <td>317698686929569</td>\n",
       "      <td>317543686929569</td>\n",
       "      <td>144453.442667</td>\n",
       "      <td>3.669758e+08</td>\n",
       "      <td>...</td>\n",
       "      <td>229509</td>\n",
       "      <td>570680</td>\n",
       "      <td>2.451838</td>\n",
       "      <td>2.486526</td>\n",
       "      <td>124</td>\n",
       "      <td>188153365173</td>\n",
       "      <td>155000000000</td>\n",
       "      <td>16909883109542</td>\n",
       "      <td>317698686929569</td>\n",
       "      <td>300788803820027</td>\n",
       "    </tr>\n",
       "    <tr>\n",
       "      <th>2017-06-30</th>\n",
       "      <td>2452.712064</td>\n",
       "      <td>5.448314e+06</td>\n",
       "      <td>2017</td>\n",
       "      <td>6</td>\n",
       "      <td>30</td>\n",
       "      <td>36690726272</td>\n",
       "      <td>333927062356198</td>\n",
       "      <td>333740812356198</td>\n",
       "      <td>134084.908792</td>\n",
       "      <td>3.288717e+08</td>\n",
       "      <td>...</td>\n",
       "      <td>273638</td>\n",
       "      <td>709817</td>\n",
       "      <td>2.498776</td>\n",
       "      <td>2.594000</td>\n",
       "      <td>149</td>\n",
       "      <td>222940726272</td>\n",
       "      <td>186250000000</td>\n",
       "      <td>19474802932200</td>\n",
       "      <td>333927062356198</td>\n",
       "      <td>314452259423998</td>\n",
       "    </tr>\n",
       "  </tbody>\n",
       "</table>\n",
       "<p>911 rows × 21 columns</p>\n",
       "</div>"
      ],
      "text/plain": [
       "              price_usd     hash_rate  year  month  day    total_fee   \n",
       "Date                                                                   \n",
       "2015-01-02   315.942732  3.333450e+05  2015      1    2   1159934218  \\\n",
       "2015-01-03   285.647310  3.272842e+05  2015      1    3   1196476043   \n",
       "2015-01-04   263.334575  3.474869e+05  2015      1    4   2159195328   \n",
       "2015-01-05   275.003852  3.151626e+05  2015      1    5   1608443040   \n",
       "2015-01-06   287.549521  3.192031e+05  2015      1    6   1296373032   \n",
       "...                 ...           ...   ...    ...  ...          ...   \n",
       "2017-06-26  2426.365051  5.023770e+06  2017      6   26  35993152232   \n",
       "2017-06-27  2530.345536  4.634604e+06  2017      6   27  38384859820   \n",
       "2017-06-28  2562.792264  5.554450e+06  2017      6   28  38663204682   \n",
       "2017-06-29  2540.443032  4.245439e+06  2017      6   29  33153365173   \n",
       "2017-06-30  2452.712064  5.448314e+06  2017      6   30  36690726272   \n",
       "\n",
       "            total_received_satoshi  total_sent_satoshi  mean_fee_satoshi   \n",
       "Date                                                                       \n",
       "2015-01-02          73370568521080      72955568521080      14978.682808  \\\n",
       "2015-01-03          82635189454578      82220189454578      14304.385766   \n",
       "2015-01-04         115159442449532     114726942449532      25138.199015   \n",
       "2015-01-05         112439228285641     112051728285641      16955.609622   \n",
       "2015-01-06         118260758863552     117868258863552      14667.176159   \n",
       "...                            ...                 ...               ...   \n",
       "2017-06-26         375012739382430     374842739382430     145080.443192   \n",
       "2017-06-27         287624055555912     287452805555912     142346.452989   \n",
       "2017-06-28         282904720130478     282717220130478     140744.451983   \n",
       "2017-06-29         317698686929569     317543686929569     144453.442667   \n",
       "2017-06-30         333927062356198     333740812356198     134084.908792   \n",
       "\n",
       "             mean_feeUSD  ...  nb_transactions  nb_payments  mean_nb_inputs   \n",
       "Date                      ...                                                 \n",
       "2015-01-02  4.732406e+06  ...            77439       257633        2.715557  \\\n",
       "2015-01-03  4.086009e+06  ...            83644       295618        2.781885   \n",
       "2015-01-04  6.619757e+06  ...            85893       280288        2.770133   \n",
       "2015-01-05  4.662858e+06  ...            94862       286552        2.954471   \n",
       "2015-01-06  4.217540e+06  ...            88386       252571        2.869595   \n",
       "...                  ...  ...              ...          ...             ...   \n",
       "2017-06-26  3.520181e+08  ...           248091       626222        2.565329   \n",
       "2017-06-27  3.601857e+08  ...           269658       747924        2.314862   \n",
       "2017-06-28  3.606988e+08  ...           274705       686018        2.471178   \n",
       "2017-06-29  3.669758e+08  ...           229509       570680        2.451838   \n",
       "2017-06-30  3.288717e+08  ...           273638       709817        2.498776   \n",
       "\n",
       "            mean_nb_outputs  nb_mining  total_mining_satoshi   \n",
       "Date                                                           \n",
       "2015-01-02         3.326915        166          416159934218  \\\n",
       "2015-01-03         3.534240        166          416196476043   \n",
       "2015-01-04         3.263223        173          434659195328   \n",
       "2015-01-05         3.020725        155          389108443040   \n",
       "2015-01-06         2.857591        157          393796373032   \n",
       "...                     ...        ...                   ...   \n",
       "2017-06-26         2.524163        136          205993152232   \n",
       "2017-06-27         2.773602        137          209634859820   \n",
       "2017-06-28         2.497290        150          226163204682   \n",
       "2017-06-29         2.486526        124          188153365173   \n",
       "2017-06-30         2.594000        149          222940726272   \n",
       "\n",
       "            newly_created_coins  self_spent_satoshi   total_received   \n",
       "Date                                                                   \n",
       "2015-01-02         415000000000       4316724676318   73370568521080  \\\n",
       "2015-01-03         415000000000       5584584356557   82635189454578   \n",
       "2015-01-04         432500000000       6554587956125  115159442449532   \n",
       "2015-01-05         387500000000       5063695492444  112439228285641   \n",
       "2015-01-06         392500000000       4026430543611  118260758863552   \n",
       "...                         ...                 ...              ...   \n",
       "2017-06-26         170000000000      14151200557043  375012739382430   \n",
       "2017-06-27         171250000000      19821969138631  287624055555912   \n",
       "2017-06-28         187500000000      10958737629631  282904720130478   \n",
       "2017-06-29         155000000000      16909883109542  317698686929569   \n",
       "2017-06-30         186250000000      19474802932200  333927062356198   \n",
       "\n",
       "            volume_without_self  \n",
       "Date                             \n",
       "2015-01-02       69053843844762  \n",
       "2015-01-03       77050605098021  \n",
       "2015-01-04      108604854493407  \n",
       "2015-01-05      107375532793197  \n",
       "2015-01-06      114234328319941  \n",
       "...                         ...  \n",
       "2017-06-26      360861538825387  \n",
       "2017-06-27      267802086417281  \n",
       "2017-06-28      271945982500847  \n",
       "2017-06-29      300788803820027  \n",
       "2017-06-30      314452259423998  \n",
       "\n",
       "[911 rows x 21 columns]"
      ]
     },
     "execution_count": 15,
     "metadata": {},
     "output_type": "execute_result"
    }
   ],
   "source": [
    "# Reconversion - Date column to index and datetime values\n",
    "df = df.set_index(\"Date\")\n",
    "df.index = df.index.map(dt.datetime.fromordinal)\n",
    "\n",
    "# Import global.csv into df2\n",
    "df2 = pd.read_csv(\"timeseries/global.csv\", sep=\",\", index_col=\"Unnamed: 0\")\n",
    "df2.index.names = [\"Date\"]\n",
    "df2.index = pd.to_datetime(df2.index)\n",
    "\n",
    "# Merge between df (external.csv) and df2 (global.csv)\n",
    "df = df.merge(df2, how=\"inner\", on=\"Date\")\n",
    "df.rename(columns = {'PriceUSD':'price_usd', 'HashRate':'hash_rate'}, inplace = True)\n",
    "df"
   ]
  },
  {
   "cell_type": "code",
   "execution_count": 16,
   "id": "40a31d4a",
   "metadata": {},
   "outputs": [
    {
     "name": "stdout",
     "output_type": "stream",
     "text": [
      "correlation : nb_transactions and price_usd = 0.7009060681375398\n"
     ]
    },
    {
     "data": {
      "image/png": "[encoded data removed]",
      "text/plain": [
       "<Figure size 576x216 with 1 Axes>"
      ]
     },
     "metadata": {
      "needs_background": "light"
     },
     "output_type": "display_data"
    }
   ],
   "source": [
    "#Function to print correlation between col1 and col2, and their graphs if needed\n",
    "def print_graph_corr(col1 : str, col2 : str, printGraph1 : bool, printGraph2 : bool) :\n",
    "    if printGraph1 :\n",
    "        df[col1].plot(title=\"Graph : \" + col1 + \" evol throughout time\", figsize=(8, 3))\n",
    "    \n",
    "    if printGraph2 :\n",
    "        df[col2].plot(title=\"Graph : \" + col2 + \" evol throughout time\", figsize=(8, 3))\n",
    "\n",
    "    print(\"correlation : \" + col1 + \" and \" + col2 + \" = \" + str(df[col1].corr(df[col2])))\n",
    "\n",
    "#Between nb_transaction and price_usd\n",
    "print_graph_corr(\"nb_transactions\", \"price_usd\", True, False)"
   ]
  },
  {
   "cell_type": "code",
   "execution_count": 17,
   "id": "d8e804c0",
   "metadata": {},
   "outputs": [
    {
     "name": "stdout",
     "output_type": "stream",
     "text": [
      "correlation : nb_payments and price_usd = 0.5259850058477298\n"
     ]
    },
    {
     "data": {
      "image/png": "[encoded data removed]",
      "text/plain": [
       "<Figure size 576x216 with 1 Axes>"
      ]
     },
     "metadata": {
      "needs_background": "light"
     },
     "output_type": "display_data"
    }
   ],
   "source": [
    "#Between nb_payments and price_usd\n",
    "print_graph_corr(\"nb_payments\", \"price_usd\", True, False)"
   ]
  },
  {
   "cell_type": "code",
   "execution_count": 18,
   "id": "ed5a12ba",
   "metadata": {},
   "outputs": [
    {
     "name": "stdout",
     "output_type": "stream",
     "text": [
      "correlation : nb_payments and nb_transactions = 0.75442506270734\n"
     ]
    }
   ],
   "source": [
    "#Between nb_transactions and nb_payments\n",
    "print_graph_corr(\"nb_payments\", \"nb_transactions\", False, False)"
   ]
  },
  {
   "cell_type": "code",
   "execution_count": 19,
   "id": "cd50fe50",
   "metadata": {
    "scrolled": true
   },
   "outputs": [
    {
     "name": "stdout",
     "output_type": "stream",
     "text": [
      "correlation : price_usd and newly_created_coins = -0.6392996477389676\n"
     ]
    },
    {
     "data": {
      "image/png": "[encoded data removed]",
      "text/plain": [
       "<Figure size 576x216 with 1 Axes>"
      ]
     },
     "metadata": {
      "needs_background": "light"
     },
     "output_type": "display_data"
    }
   ],
   "source": [
    "#Between price_usd and newly_created_coins\n",
    "print_graph_corr(\"price_usd\", \"newly_created_coins\", False, True)"
   ]
  },
  {
   "cell_type": "code",
   "execution_count": null,
   "id": "35791460",
   "metadata": {},
   "outputs": [],
   "source": []
  },
  {
   "cell_type": "markdown",
   "id": "363c0548",
   "metadata": {},
   "source": [
    "Now lets do this for every property in our table:"
   ]
  },
  {
   "cell_type": "code",
   "execution_count": 37,
   "id": "63274143",
   "metadata": {},
   "outputs": [
    {
     "name": "stdout",
     "output_type": "stream",
     "text": [
      "correlation : price_usd and price_usd = 0.9999999999999998\n",
      "correlation : price_usd and hash_rate = 0.9374466899233476\n",
      "correlation : price_usd and year = 0.7876602721473689\n",
      "correlation : price_usd and month = -0.0569733912518553\n",
      "correlation : price_usd and day = 0.021652930451027643\n",
      "correlation : price_usd and total_fee = 0.9516748677947203\n",
      "correlation : price_usd and total_received_satoshi = 0.09756850965979516\n",
      "correlation : price_usd and total_sent_satoshi = 0.09778767437689756\n",
      "correlation : price_usd and mean_fee_satoshi = 0.9515701688144629\n",
      "correlation : price_usd and mean_feeUSD = 0.9375200481965106\n",
      "correlation : price_usd and mean_fee_for100 = 0.2186201950920349\n",
      "correlation : price_usd and nb_transactions = 0.7009060681375399\n",
      "correlation : price_usd and nb_payments = 0.5259850058477299\n",
      "correlation : price_usd and mean_nb_inputs = -0.38414361260697366\n",
      "correlation : price_usd and mean_nb_outputs = -0.2385918816515364\n",
      "correlation : price_usd and nb_mining = 0.06542562794527566\n",
      "correlation : price_usd and total_mining_satoshi = -0.5698110553445589\n",
      "correlation : price_usd and newly_created_coins = -0.6392996477389676\n",
      "correlation : price_usd and self_spent_satoshi = 0.23665473554166896\n",
      "correlation : price_usd and total_received = 0.09756850965979516\n",
      "correlation : price_usd and volume_without_self = 0.08975105038260983\n",
      "correlation : hash_rate and price_usd = 0.9374466899233476\n",
      "correlation : hash_rate and hash_rate = 1.0\n",
      "correlation : hash_rate and year = 0.9143946915186408\n",
      "correlation : hash_rate and month = -0.10673123144500714\n",
      "correlation : hash_rate and day = 0.025522838814358278\n",
      "correlation : hash_rate and total_fee = 0.9098586948977525\n",
      "correlation : hash_rate and total_received_satoshi = 0.11278914447531954\n",
      "correlation : hash_rate and total_sent_satoshi = 0.11303707501231748\n",
      "correlation : hash_rate and mean_fee_satoshi = 0.8846125770096082\n",
      "correlation : hash_rate and mean_feeUSD = 0.7949623825815927\n",
      "correlation : hash_rate and mean_fee_for100 = 0.1849631835544509\n",
      "correlation : hash_rate and nb_transactions = 0.8284159597998977\n",
      "correlation : hash_rate and nb_payments = 0.608560096374879\n",
      "correlation : hash_rate and mean_nb_inputs = -0.47613997579139694\n",
      "correlation : hash_rate and mean_nb_outputs = -0.29994325812206873\n",
      "correlation : hash_rate and nb_mining = 0.14801447855135574\n",
      "correlation : hash_rate and total_mining_satoshi = -0.663785562116151\n",
      "correlation : hash_rate and newly_created_coins = -0.7231538104321036\n",
      "correlation : hash_rate and self_spent_satoshi = 0.3191838329804168\n",
      "correlation : hash_rate and total_received = 0.11278914447531954\n",
      "correlation : hash_rate and volume_without_self = 0.10216707208734206\n",
      "correlation : year and price_usd = 0.787660272147369\n",
      "correlation : year and hash_rate = 0.9143946915186408\n",
      "correlation : year and year = 0.9999999999999999\n",
      "correlation : year and month = -0.28598618473115156\n",
      "correlation : year and day = -0.005826714953940351\n",
      "correlation : year and total_fee = 0.7495498294257045\n",
      "correlation : year and total_received_satoshi = 0.18175834780179537\n",
      "correlation : year and total_sent_satoshi = 0.18200113958094744\n",
      "correlation : year and mean_fee_satoshi = 0.7111719425128896\n",
      "correlation : year and mean_feeUSD = 0.5829975713934213\n",
      "correlation : year and mean_fee_for100 = 0.10791214033990718\n",
      "correlation : year and nb_transactions = 0.8698060080609561\n",
      "correlation : year and nb_payments = 0.6274813285857189\n",
      "correlation : year and mean_nb_inputs = -0.5525262647452577\n",
      "correlation : year and mean_nb_outputs = -0.34241059523265654\n",
      "correlation : year and nb_mining = 0.08651321238870738\n",
      "correlation : year and total_mining_satoshi = -0.6646204821295174\n",
      "correlation : year and newly_created_coins = -0.7065342085510827\n",
      "correlation : year and self_spent_satoshi = 0.3458668978661731\n",
      "correlation : year and total_received = 0.18175834780179537\n",
      "correlation : year and volume_without_self = 0.1704965732992908\n",
      "correlation : month and price_usd = -0.0569733912518553\n",
      "correlation : month and hash_rate = -0.10673123144500714\n",
      "correlation : month and year = -0.2859861847311515\n",
      "correlation : month and month = 1.0\n",
      "correlation : month and day = 0.007689175203048241\n",
      "correlation : month and total_fee = -0.09761075579644694\n",
      "correlation : month and total_received_satoshi = -0.0874677696269209\n",
      "correlation : month and total_sent_satoshi = -0.08742815858662296\n",
      "correlation : month and mean_fee_satoshi = -0.0951969684220135\n",
      "correlation : month and mean_feeUSD = -0.07054464192407009\n",
      "correlation : month and mean_fee_for100 = 0.062478809234152326\n",
      "correlation : month and nb_transactions = 0.04605988479996521\n",
      "correlation : month and nb_payments = 0.047067597680220126\n",
      "correlation : month and mean_nb_inputs = 0.015555844594217097\n",
      "correlation : month and mean_nb_outputs = -0.010860625247913057\n",
      "correlation : month and nb_mining = 0.020749700136004367\n",
      "correlation : month and total_mining_satoshi = -0.13666166569307944\n",
      "correlation : month and newly_created_coins = -0.11794882121354223\n",
      "correlation : month and self_spent_satoshi = -0.15349980982497577\n",
      "correlation : month and total_received = -0.0874677696269209\n",
      "correlation : month and volume_without_self = -0.08249802216343927\n",
      "correlation : day and price_usd = 0.021652930451027647\n",
      "correlation : day and hash_rate = 0.025522838814358278\n",
      "correlation : day and year = -0.0058267149539403505\n",
      "correlation : day and month = 0.007689175203048242\n",
      "correlation : day and day = 0.9999999999999998\n",
      "correlation : day and total_fee = 0.027023321296572984\n",
      "correlation : day and total_received_satoshi = 0.03460870872493785\n",
      "correlation : day and total_sent_satoshi = 0.03462598111411342\n",
      "correlation : day and mean_fee_satoshi = 0.0370347875079628\n",
      "correlation : day and mean_feeUSD = 0.02451871513978731\n",
      "correlation : day and mean_fee_for100 = -0.015173821359927803\n",
      "correlation : day and nb_transactions = -0.00037131841311739916\n",
      "correlation : day and nb_payments = -0.04148764003293558\n",
      "correlation : day and mean_nb_inputs = -0.017611772527457947\n",
      "correlation : day and mean_nb_outputs = -0.051262659334433976\n",
      "correlation : day and nb_mining = -0.09092070747147299\n",
      "correlation : day and total_mining_satoshi = -0.0497901372896019\n",
      "correlation : day and newly_created_coins = -0.04976750268909738\n",
      "correlation : day and self_spent_satoshi = -0.013101579493269507\n",
      "correlation : day and total_received = 0.03460870872493785\n",
      "correlation : day and volume_without_self = 0.03520833618935507\n",
      "correlation : total_fee and price_usd = 0.9516748677947203\n",
      "correlation : total_fee and hash_rate = 0.9098586948977525\n",
      "correlation : total_fee and year = 0.7495498294257045\n",
      "correlation : total_fee and month = -0.09761075579644694\n",
      "correlation : total_fee and day = 0.027023321296572984\n",
      "correlation : total_fee and total_fee = 1.0\n",
      "correlation : total_fee and total_received_satoshi = 0.10778597808745083\n",
      "correlation : total_fee and total_sent_satoshi = 0.10798666506741918\n",
      "correlation : total_fee and mean_fee_satoshi = 0.9811238690766949\n",
      "correlation : total_fee and mean_feeUSD = 0.9279376312666011\n",
      "correlation : total_fee and mean_fee_for100 = 0.2423410501758529\n",
      "correlation : total_fee and nb_transactions = 0.6914329270255365\n",
      "correlation : total_fee and nb_payments = 0.5404620429454491\n",
      "correlation : total_fee and mean_nb_inputs = -0.36856576512892536\n",
      "correlation : total_fee and mean_nb_outputs = -0.19988490900018593\n",
      "correlation : total_fee and nb_mining = 0.08874872810629422\n",
      "correlation : total_fee and total_mining_satoshi = -0.5064827144436231\n",
      "correlation : total_fee and newly_created_coins = -0.5849785348142527\n",
      "correlation : total_fee and self_spent_satoshi = 0.25674581637985394\n",
      "correlation : total_fee and total_received = 0.10778597808745083\n",
      "correlation : total_fee and volume_without_self = 0.09931291227643319\n",
      "correlation : total_received_satoshi and price_usd = 0.09756850965979516\n",
      "correlation : total_received_satoshi and hash_rate = 0.11278914447531954\n",
      "correlation : total_received_satoshi and year = 0.18175834780179537\n",
      "correlation : total_received_satoshi and month = -0.0874677696269209\n",
      "correlation : total_received_satoshi and day = 0.03460870872493785\n",
      "correlation : total_received_satoshi and total_fee = 0.10778597808745083\n",
      "correlation : total_received_satoshi and total_received_satoshi = 1.0\n",
      "correlation : total_received_satoshi and total_sent_satoshi = 0.999999941676348\n",
      "correlation : total_received_satoshi and mean_fee_satoshi = 0.0862938078847765\n",
      "correlation : total_received_satoshi and mean_feeUSD = 0.07459067346139381\n",
      "correlation : total_received_satoshi and mean_fee_for100 = -0.021573064752848075\n",
      "correlation : total_received_satoshi and nb_transactions = 0.22688123333484905\n",
      "correlation : total_received_satoshi and nb_payments = 0.17404322207890288\n",
      "correlation : total_received_satoshi and mean_nb_inputs = -0.14636210763728827\n",
      "correlation : total_received_satoshi and mean_nb_outputs = -0.10110685000220945\n",
      "correlation : total_received_satoshi and nb_mining = 0.10486582161382862\n",
      "correlation : total_received_satoshi and total_mining_satoshi = 0.03694084384834214\n",
      "correlation : total_received_satoshi and newly_created_coins = 0.023044791968544493\n",
      "correlation : total_received_satoshi and self_spent_satoshi = 0.13704511897482996\n",
      "correlation : total_received_satoshi and total_received = 1.0\n",
      "correlation : total_received_satoshi and volume_without_self = 0.999407301879178\n",
      "correlation : total_sent_satoshi and price_usd = 0.09778767437689756\n",
      "correlation : total_sent_satoshi and hash_rate = 0.11303707501231748\n",
      "correlation : total_sent_satoshi and year = 0.18200113958094744\n",
      "correlation : total_sent_satoshi and month = -0.08742815858662295\n",
      "correlation : total_sent_satoshi and day = 0.03462598111411342\n",
      "correlation : total_sent_satoshi and total_fee = 0.10798666506741918\n",
      "correlation : total_sent_satoshi and total_received_satoshi = 0.999999941676348\n",
      "correlation : total_sent_satoshi and total_sent_satoshi = 1.0\n",
      "correlation : total_sent_satoshi and mean_fee_satoshi = 0.08648741539154342\n",
      "correlation : total_sent_satoshi and mean_feeUSD = 0.07474390298295747\n",
      "correlation : total_sent_satoshi and mean_fee_for100 = -0.021539004037902307\n",
      "correlation : total_sent_satoshi and nb_transactions = 0.22711132330461534\n",
      "correlation : total_sent_satoshi and nb_payments = 0.1741960467988239\n",
      "correlation : total_sent_satoshi and mean_nb_inputs = -0.14653302877624466\n",
      "correlation : total_sent_satoshi and mean_nb_outputs = -0.1012034888154279\n",
      "correlation : total_sent_satoshi and nb_mining = 0.10477503645916877\n",
      "correlation : total_sent_satoshi and total_mining_satoshi = 0.03660100540450517\n",
      "correlation : total_sent_satoshi and newly_created_coins = 0.022703344649324764\n",
      "correlation : total_sent_satoshi and self_spent_satoshi = 0.13708993166796504\n",
      "correlation : total_sent_satoshi and total_received = 0.999999941676348\n",
      "correlation : total_sent_satoshi and volume_without_self = 0.9994056859647011\n",
      "correlation : mean_fee_satoshi and price_usd = 0.951570168814463\n",
      "correlation : mean_fee_satoshi and hash_rate = 0.8846125770096082\n",
      "correlation : mean_fee_satoshi and year = 0.7111719425128895\n",
      "correlation : mean_fee_satoshi and month = -0.0951969684220135\n",
      "correlation : mean_fee_satoshi and day = 0.03703478750796281\n",
      "correlation : mean_fee_satoshi and total_fee = 0.9811238690766949\n",
      "correlation : mean_fee_satoshi and total_received_satoshi = 0.08629380788477652\n",
      "correlation : mean_fee_satoshi and total_sent_satoshi = 0.08648741539154343\n",
      "correlation : mean_fee_satoshi and mean_fee_satoshi = 1.0\n",
      "correlation : mean_fee_satoshi and mean_feeUSD = 0.9530394735274944\n",
      "correlation : mean_fee_satoshi and mean_fee_for100 = 0.2472030550052237\n",
      "correlation : mean_fee_satoshi and nb_transactions = 0.6028526356365375\n",
      "correlation : mean_fee_satoshi and nb_payments = 0.48352153416900323\n",
      "correlation : mean_fee_satoshi and mean_nb_inputs = -0.2914593936659732\n",
      "correlation : mean_fee_satoshi and mean_nb_outputs = -0.15886488145477518\n",
      "correlation : mean_fee_satoshi and nb_mining = 0.0445251702361231\n",
      "correlation : mean_fee_satoshi and total_mining_satoshi = -0.4871531317004937\n",
      "correlation : mean_fee_satoshi and newly_created_coins = -0.564747357261684\n",
      "correlation : mean_fee_satoshi and self_spent_satoshi = 0.23416024639725427\n",
      "correlation : mean_fee_satoshi and total_received = 0.08629380788477652\n",
      "correlation : mean_fee_satoshi and volume_without_self = 0.07851602314285551\n",
      "correlation : mean_feeUSD and price_usd = 0.9375200481965105\n",
      "correlation : mean_feeUSD and hash_rate = 0.7949623825815927\n",
      "correlation : mean_feeUSD and year = 0.5829975713934215\n",
      "correlation : mean_feeUSD and month = -0.07054464192407009\n",
      "correlation : mean_feeUSD and day = 0.02451871513978731\n",
      "correlation : mean_feeUSD and total_fee = 0.9279376312666011\n",
      "correlation : mean_feeUSD and total_received_satoshi = 0.07459067346139381\n",
      "correlation : mean_feeUSD and total_sent_satoshi = 0.07474390298295748\n",
      "correlation : mean_feeUSD and mean_fee_satoshi = 0.9530394735274945\n",
      "correlation : mean_feeUSD and mean_feeUSD = 1.0\n",
      "correlation : mean_feeUSD and mean_fee_for100 = 0.24592241003579465\n",
      "correlation : mean_feeUSD and nb_transactions = 0.477830776332902\n",
      "correlation : mean_feeUSD and nb_payments = 0.3781728783254056\n",
      "correlation : mean_feeUSD and mean_nb_inputs = -0.21031592955492198\n",
      "correlation : mean_feeUSD and mean_nb_outputs = -0.13633934875370152\n",
      "correlation : mean_feeUSD and nb_mining = 0.04448910490384575\n",
      "correlation : mean_feeUSD and total_mining_satoshi = -0.36792221714471507\n",
      "correlation : mean_feeUSD and newly_created_coins = -0.4468220033479356\n",
      "correlation : mean_feeUSD and self_spent_satoshi = 0.15539941693623932\n",
      "correlation : mean_feeUSD and total_received = 0.07459067346139381\n",
      "correlation : mean_feeUSD and volume_without_self = 0.06950121334500554\n",
      "correlation : mean_fee_for100 and price_usd = 0.2186201950920349\n",
      "correlation : mean_fee_for100 and hash_rate = 0.18496318355445093\n",
      "correlation : mean_fee_for100 and year = 0.10791214033990719\n",
      "correlation : mean_fee_for100 and month = 0.06247880923415233\n",
      "correlation : mean_fee_for100 and day = -0.015173821359927803\n",
      "correlation : mean_fee_for100 and total_fee = 0.24234105017585286\n",
      "correlation : mean_fee_for100 and total_received_satoshi = -0.021573064752848075\n",
      "correlation : mean_fee_for100 and total_sent_satoshi = -0.02153900403790231\n",
      "correlation : mean_fee_for100 and mean_fee_satoshi = 0.24720305500522366\n",
      "correlation : mean_fee_for100 and mean_feeUSD = 0.24592241003579468\n",
      "correlation : mean_fee_for100 and mean_fee_for100 = 1.0\n",
      "correlation : mean_fee_for100 and nb_transactions = 0.15989434335278224\n",
      "correlation : mean_fee_for100 and nb_payments = 0.21648534759844273\n",
      "correlation : mean_fee_for100 and mean_nb_inputs = 0.06830262399579909\n",
      "correlation : mean_fee_for100 and mean_nb_outputs = 0.04214986250207149\n",
      "correlation : mean_fee_for100 and nb_mining = 0.00789668742194977\n",
      "correlation : mean_fee_for100 and total_mining_satoshi = -0.07854778634445962\n",
      "correlation : mean_fee_for100 and newly_created_coins = -0.1001948193464605\n",
      "correlation : mean_fee_for100 and self_spent_satoshi = 0.05328906096668112\n",
      "correlation : mean_fee_for100 and total_received = -0.021573064752848075\n",
      "correlation : mean_fee_for100 and volume_without_self = -0.023514944808997844\n",
      "correlation : nb_transactions and price_usd = 0.7009060681375398\n",
      "correlation : nb_transactions and hash_rate = 0.8284159597998978\n",
      "correlation : nb_transactions and year = 0.869806008060956\n",
      "correlation : nb_transactions and month = 0.04605988479996521\n",
      "correlation : nb_transactions and day = -0.0003713184131173991\n",
      "correlation : nb_transactions and total_fee = 0.6914329270255365\n",
      "correlation : nb_transactions and total_received_satoshi = 0.22688123333484908\n",
      "correlation : nb_transactions and total_sent_satoshi = 0.22711132330461534\n",
      "correlation : nb_transactions and mean_fee_satoshi = 0.6028526356365375\n",
      "correlation : nb_transactions and mean_feeUSD = 0.477830776332902\n",
      "correlation : nb_transactions and mean_fee_for100 = 0.15989434335278224\n",
      "correlation : nb_transactions and nb_transactions = 1.0\n",
      "correlation : nb_transactions and nb_payments = 0.75442506270734\n",
      "correlation : nb_transactions and mean_nb_inputs = -0.646055132937817\n",
      "correlation : nb_transactions and mean_nb_outputs = -0.35334466321320507\n",
      "correlation : nb_transactions and nb_mining = 0.17381725136825144\n",
      "correlation : nb_transactions and total_mining_satoshi = -0.6307038603853689\n",
      "correlation : nb_transactions and newly_created_coins = -0.6683217641406848\n",
      "correlation : nb_transactions and self_spent_satoshi = 0.32962025023827596\n",
      "correlation : nb_transactions and total_received = 0.22688123333484908\n",
      "correlation : nb_transactions and volume_without_self = 0.21637222843594497\n",
      "correlation : nb_payments and price_usd = 0.5259850058477298\n",
      "correlation : nb_payments and hash_rate = 0.608560096374879\n",
      "correlation : nb_payments and year = 0.6274813285857189\n",
      "correlation : nb_payments and month = 0.047067597680220126\n",
      "correlation : nb_payments and day = -0.04148764003293558\n",
      "correlation : nb_payments and total_fee = 0.5404620429454491\n",
      "correlation : nb_payments and total_received_satoshi = 0.17404322207890285\n",
      "correlation : nb_payments and total_sent_satoshi = 0.17419604679882392\n",
      "correlation : nb_payments and mean_fee_satoshi = 0.4835215341690032\n",
      "correlation : nb_payments and mean_feeUSD = 0.37817287832540564\n",
      "correlation : nb_payments and mean_fee_for100 = 0.21648534759844273\n",
      "correlation : nb_payments and nb_transactions = 0.75442506270734\n",
      "correlation : nb_payments and nb_payments = 0.9999999999999999\n",
      "correlation : nb_payments and mean_nb_inputs = -0.4806034339903992\n",
      "correlation : nb_payments and mean_nb_outputs = 0.33308159948623556\n",
      "correlation : nb_payments and nb_mining = 0.14259870127080018\n",
      "correlation : nb_payments and total_mining_satoshi = -0.40896851670669637\n",
      "correlation : nb_payments and newly_created_coins = -0.44336219741838423\n",
      "correlation : nb_payments and self_spent_satoshi = 0.27890968916216163\n",
      "correlation : nb_payments and total_received = 0.17404322207890285\n",
      "correlation : nb_payments and volume_without_self = 0.16507619809948126\n",
      "correlation : mean_nb_inputs and price_usd = -0.38414361260697366\n",
      "correlation : mean_nb_inputs and hash_rate = -0.476139975791397\n",
      "correlation : mean_nb_inputs and year = -0.5525262647452577\n",
      "correlation : mean_nb_inputs and month = 0.015555844594217097\n",
      "correlation : mean_nb_inputs and day = -0.017611772527457947\n",
      "correlation : mean_nb_inputs and total_fee = -0.36856576512892536\n",
      "correlation : mean_nb_inputs and total_received_satoshi = -0.14636210763728827\n",
      "correlation : mean_nb_inputs and total_sent_satoshi = -0.14653302877624466\n",
      "correlation : mean_nb_inputs and mean_fee_satoshi = -0.2914593936659731\n",
      "correlation : mean_nb_inputs and mean_feeUSD = -0.210315929554922\n",
      "correlation : mean_nb_inputs and mean_fee_for100 = 0.06830262399579909\n",
      "correlation : mean_nb_inputs and nb_transactions = -0.646055132937817\n",
      "correlation : mean_nb_inputs and nb_payments = -0.4806034339903991\n",
      "correlation : mean_nb_inputs and mean_nb_inputs = 0.9999999999999999\n",
      "correlation : mean_nb_inputs and mean_nb_outputs = 0.2378080021762437\n",
      "correlation : mean_nb_inputs and nb_mining = 0.040082328359688495\n",
      "correlation : mean_nb_inputs and total_mining_satoshi = 0.48579814296092866\n",
      "correlation : mean_nb_inputs and newly_created_coins = 0.49696659373788843\n",
      "correlation : mean_nb_inputs and self_spent_satoshi = -0.1446653982069594\n",
      "correlation : mean_nb_inputs and total_received = -0.14636210763728827\n",
      "correlation : mean_nb_inputs and volume_without_self = -0.14194496316228894\n",
      "correlation : mean_nb_outputs and price_usd = -0.2385918816515364\n",
      "correlation : mean_nb_outputs and hash_rate = -0.29994325812206873\n",
      "correlation : mean_nb_outputs and year = -0.3424105952326565\n",
      "correlation : mean_nb_outputs and month = -0.010860625247913057\n",
      "correlation : mean_nb_outputs and day = -0.051262659334433976\n",
      "correlation : mean_nb_outputs and total_fee = -0.19988490900018593\n",
      "correlation : mean_nb_outputs and total_received_satoshi = -0.10110685000220945\n",
      "correlation : mean_nb_outputs and total_sent_satoshi = -0.10120348881542789\n",
      "correlation : mean_nb_outputs and mean_fee_satoshi = -0.1588648814547752\n",
      "correlation : mean_nb_outputs and mean_feeUSD = -0.13633934875370152\n",
      "correlation : mean_nb_outputs and mean_fee_for100 = 0.042149862502071485\n",
      "correlation : mean_nb_outputs and nb_transactions = -0.353344663213205\n",
      "correlation : mean_nb_outputs and nb_payments = 0.33308159948623556\n",
      "correlation : mean_nb_outputs and mean_nb_inputs = 0.2378080021762437\n",
      "correlation : mean_nb_outputs and mean_nb_outputs = 1.0\n",
      "correlation : mean_nb_outputs and nb_mining = -0.05951493067461586\n",
      "correlation : mean_nb_outputs and total_mining_satoshi = 0.2752053132408334\n",
      "correlation : mean_nb_outputs and newly_created_coins = 0.28056509163788323\n",
      "correlation : mean_nb_outputs and self_spent_satoshi = -0.08365009851554385\n",
      "correlation : mean_nb_outputs and total_received = -0.10110685000220945\n",
      "correlation : mean_nb_outputs and volume_without_self = -0.09862142028040109\n",
      "correlation : nb_mining and price_usd = 0.06542562794527566\n",
      "correlation : nb_mining and hash_rate = 0.14801447855135577\n",
      "correlation : nb_mining and year = 0.08651321238870738\n",
      "correlation : nb_mining and month = 0.020749700136004367\n",
      "correlation : nb_mining and day = -0.090920707471473\n",
      "correlation : nb_mining and total_fee = 0.08874872810629422\n",
      "correlation : nb_mining and total_received_satoshi = 0.10486582161382862\n",
      "correlation : nb_mining and total_sent_satoshi = 0.10477503645916877\n",
      "correlation : nb_mining and mean_fee_satoshi = 0.0445251702361231\n",
      "correlation : nb_mining and mean_feeUSD = 0.04448910490384575\n",
      "correlation : nb_mining and mean_fee_for100 = 0.00789668742194977\n",
      "correlation : nb_mining and nb_transactions = 0.17381725136825146\n",
      "correlation : nb_mining and nb_payments = 0.14259870127080018\n",
      "correlation : nb_mining and mean_nb_inputs = 0.040082328359688495\n",
      "correlation : nb_mining and mean_nb_outputs = -0.059514930674615864\n",
      "correlation : nb_mining and nb_mining = 1.0\n",
      "correlation : nb_mining and total_mining_satoshi = 0.29531349540003604\n",
      "correlation : nb_mining and newly_created_coins = 0.26814189634330093\n",
      "correlation : nb_mining and self_spent_satoshi = 0.07597305342077726\n",
      "correlation : nb_mining and total_received = 0.10486582161382862\n",
      "correlation : nb_mining and volume_without_self = 0.1026628621663781\n",
      "correlation : total_mining_satoshi and price_usd = -0.5698110553445589\n",
      "correlation : total_mining_satoshi and hash_rate = -0.663785562116151\n",
      "correlation : total_mining_satoshi and year = -0.6646204821295174\n",
      "correlation : total_mining_satoshi and month = -0.13666166569307944\n",
      "correlation : total_mining_satoshi and day = -0.0497901372896019\n",
      "correlation : total_mining_satoshi and total_fee = -0.5064827144436231\n",
      "correlation : total_mining_satoshi and total_received_satoshi = 0.036940843848342134\n",
      "correlation : total_mining_satoshi and total_sent_satoshi = 0.03660100540450517\n",
      "correlation : total_mining_satoshi and mean_fee_satoshi = -0.4871531317004936\n",
      "correlation : total_mining_satoshi and mean_feeUSD = -0.3679222171447151\n",
      "correlation : total_mining_satoshi and mean_fee_for100 = -0.07854778634445962\n",
      "correlation : total_mining_satoshi and nb_transactions = -0.6307038603853687\n",
      "correlation : total_mining_satoshi and nb_payments = -0.40896851670669637\n",
      "correlation : total_mining_satoshi and mean_nb_inputs = 0.48579814296092866\n",
      "correlation : total_mining_satoshi and mean_nb_outputs = 0.2752053132408334\n",
      "correlation : total_mining_satoshi and nb_mining = 0.29531349540003604\n",
      "correlation : total_mining_satoshi and total_mining_satoshi = 1.0\n",
      "correlation : total_mining_satoshi and newly_created_coins = 0.9956084144572299\n",
      "correlation : total_mining_satoshi and self_spent_satoshi = -0.10648751116142281\n"
     ]
    },
    {
     "name": "stdout",
     "output_type": "stream",
     "text": [
      "correlation : total_mining_satoshi and total_received = 0.036940843848342134\n",
      "correlation : total_mining_satoshi and volume_without_self = 0.04079557931756244\n",
      "correlation : newly_created_coins and price_usd = -0.6392996477389676\n",
      "correlation : newly_created_coins and hash_rate = -0.7231538104321035\n",
      "correlation : newly_created_coins and year = -0.7065342085510827\n",
      "correlation : newly_created_coins and month = -0.11794882121354222\n",
      "correlation : newly_created_coins and day = -0.049767502689097375\n",
      "correlation : newly_created_coins and total_fee = -0.5849785348142527\n",
      "correlation : newly_created_coins and total_received_satoshi = 0.023044791968544493\n",
      "correlation : newly_created_coins and total_sent_satoshi = 0.022703344649324764\n",
      "correlation : newly_created_coins and mean_fee_satoshi = -0.564747357261684\n",
      "correlation : newly_created_coins and mean_feeUSD = -0.44682200334793565\n",
      "correlation : newly_created_coins and mean_fee_for100 = -0.1001948193464605\n",
      "correlation : newly_created_coins and nb_transactions = -0.6683217641406848\n",
      "correlation : newly_created_coins and nb_payments = -0.44336219741838423\n",
      "correlation : newly_created_coins and mean_nb_inputs = 0.4969665937378884\n",
      "correlation : newly_created_coins and mean_nb_outputs = 0.2805650916378832\n",
      "correlation : newly_created_coins and nb_mining = 0.26814189634330093\n",
      "correlation : newly_created_coins and total_mining_satoshi = 0.99560841445723\n",
      "correlation : newly_created_coins and newly_created_coins = 1.0\n",
      "correlation : newly_created_coins and self_spent_satoshi = -0.12803939754002436\n",
      "correlation : newly_created_coins and total_received = 0.023044791968544493\n",
      "correlation : newly_created_coins and volume_without_self = 0.027590560944126555\n",
      "correlation : self_spent_satoshi and price_usd = 0.23665473554166896\n",
      "correlation : self_spent_satoshi and hash_rate = 0.3191838329804168\n",
      "correlation : self_spent_satoshi and year = 0.3458668978661731\n",
      "correlation : self_spent_satoshi and month = -0.15349980982497577\n",
      "correlation : self_spent_satoshi and day = -0.013101579493269507\n",
      "correlation : self_spent_satoshi and total_fee = 0.25674581637985394\n",
      "correlation : self_spent_satoshi and total_received_satoshi = 0.13704511897482996\n",
      "correlation : self_spent_satoshi and total_sent_satoshi = 0.13708993166796504\n",
      "correlation : self_spent_satoshi and mean_fee_satoshi = 0.2341602463972543\n",
      "correlation : self_spent_satoshi and mean_feeUSD = 0.15539941693623932\n",
      "correlation : self_spent_satoshi and mean_fee_for100 = 0.05328906096668112\n",
      "correlation : self_spent_satoshi and nb_transactions = 0.32962025023827596\n",
      "correlation : self_spent_satoshi and nb_payments = 0.27890968916216163\n",
      "correlation : self_spent_satoshi and mean_nb_inputs = -0.1446653982069594\n",
      "correlation : self_spent_satoshi and mean_nb_outputs = -0.08365009851554385\n",
      "correlation : self_spent_satoshi and nb_mining = 0.07597305342077725\n",
      "correlation : self_spent_satoshi and total_mining_satoshi = -0.10648751116142281\n",
      "correlation : self_spent_satoshi and newly_created_coins = -0.12803939754002436\n",
      "correlation : self_spent_satoshi and self_spent_satoshi = 1.0\n",
      "correlation : self_spent_satoshi and total_received = 0.13704511897482996\n",
      "correlation : self_spent_satoshi and volume_without_self = 0.10286421239747638\n",
      "correlation : total_received and price_usd = 0.09756850965979516\n",
      "correlation : total_received and hash_rate = 0.11278914447531954\n",
      "correlation : total_received and year = 0.18175834780179537\n",
      "correlation : total_received and month = -0.0874677696269209\n",
      "correlation : total_received and day = 0.03460870872493785\n",
      "correlation : total_received and total_fee = 0.10778597808745083\n",
      "correlation : total_received and total_received_satoshi = 1.0\n",
      "correlation : total_received and total_sent_satoshi = 0.999999941676348\n",
      "correlation : total_received and mean_fee_satoshi = 0.0862938078847765\n",
      "correlation : total_received and mean_feeUSD = 0.07459067346139381\n",
      "correlation : total_received and mean_fee_for100 = -0.021573064752848075\n",
      "correlation : total_received and nb_transactions = 0.22688123333484905\n",
      "correlation : total_received and nb_payments = 0.17404322207890288\n",
      "correlation : total_received and mean_nb_inputs = -0.14636210763728827\n",
      "correlation : total_received and mean_nb_outputs = -0.10110685000220945\n",
      "correlation : total_received and nb_mining = 0.10486582161382862\n",
      "correlation : total_received and total_mining_satoshi = 0.03694084384834214\n",
      "correlation : total_received and newly_created_coins = 0.023044791968544493\n",
      "correlation : total_received and self_spent_satoshi = 0.13704511897482996\n",
      "correlation : total_received and total_received = 1.0\n",
      "correlation : total_received and volume_without_self = 0.999407301879178\n",
      "correlation : volume_without_self and price_usd = 0.08975105038260983\n",
      "correlation : volume_without_self and hash_rate = 0.10216707208734206\n",
      "correlation : volume_without_self and year = 0.17049657329929083\n",
      "correlation : volume_without_self and month = -0.08249802216343928\n",
      "correlation : volume_without_self and day = 0.03520833618935507\n",
      "correlation : volume_without_self and total_fee = 0.09931291227643319\n",
      "correlation : volume_without_self and total_received_satoshi = 0.999407301879178\n",
      "correlation : volume_without_self and total_sent_satoshi = 0.999405685964701\n",
      "correlation : volume_without_self and mean_fee_satoshi = 0.07851602314285551\n",
      "correlation : volume_without_self and mean_feeUSD = 0.06950121334500553\n",
      "correlation : volume_without_self and mean_fee_for100 = -0.023514944808997847\n",
      "correlation : volume_without_self and nb_transactions = 0.21637222843594495\n",
      "correlation : volume_without_self and nb_payments = 0.16507619809948126\n",
      "correlation : volume_without_self and mean_nb_inputs = -0.1419449631622889\n",
      "correlation : volume_without_self and mean_nb_outputs = -0.09862142028040109\n",
      "correlation : volume_without_self and nb_mining = 0.1026628621663781\n",
      "correlation : volume_without_self and total_mining_satoshi = 0.04079557931756245\n",
      "correlation : volume_without_self and newly_created_coins = 0.027590560944126555\n",
      "correlation : volume_without_self and self_spent_satoshi = 0.10286421239747638\n",
      "correlation : volume_without_self and total_received = 0.999407301879178\n",
      "correlation : volume_without_self and volume_without_self = 1.0\n"
     ]
    }
   ],
   "source": [
    "list_of_correlations = []\n",
    "for col1 in df:\n",
    "    for col2 in df:\n",
    "        \n",
    "        print_graph_corr(col1,col2,False,False)\n",
    "        list_of_correlations.append((df[col1].corr(df[col2]),(col1,col2)))\n",
    "        \n",
    "#print(list_of_correlations)"
   ]
  },
  {
   "cell_type": "code",
   "execution_count": 29,
   "id": "bf2e6a42",
   "metadata": {},
   "outputs": [
    {
     "name": "stdout",
     "output_type": "stream",
     "text": [
      "                        price_usd  hash_rate      year     month       day   \n",
      "price_usd                1.000000   0.937447  0.787660 -0.056973  0.021653  \\\n",
      "hash_rate                0.937447   1.000000  0.914395 -0.106731  0.025523   \n",
      "year                     0.787660   0.914395  1.000000 -0.285986 -0.005827   \n",
      "month                   -0.056973  -0.106731 -0.285986  1.000000  0.007689   \n",
      "day                      0.021653   0.025523 -0.005827  0.007689  1.000000   \n",
      "total_fee                0.951675   0.909859  0.749550 -0.097611  0.027023   \n",
      "total_received_satoshi   0.097569   0.112789  0.181758 -0.087468  0.034609   \n",
      "total_sent_satoshi       0.097788   0.113037  0.182001 -0.087428  0.034626   \n",
      "mean_fee_satoshi         0.951570   0.884613  0.711172 -0.095197  0.037035   \n",
      "mean_feeUSD              0.937520   0.794962  0.582998 -0.070545  0.024519   \n",
      "mean_fee_for100          0.218620   0.184963  0.107912  0.062479 -0.015174   \n",
      "nb_transactions          0.700906   0.828416  0.869806  0.046060 -0.000371   \n",
      "nb_payments              0.525985   0.608560  0.627481  0.047068 -0.041488   \n",
      "mean_nb_inputs          -0.384144  -0.476140 -0.552526  0.015556 -0.017612   \n",
      "mean_nb_outputs         -0.238592  -0.299943 -0.342411 -0.010861 -0.051263   \n",
      "nb_mining                0.065426   0.148014  0.086513  0.020750 -0.090921   \n",
      "total_mining_satoshi    -0.569811  -0.663786 -0.664620 -0.136662 -0.049790   \n",
      "newly_created_coins     -0.639300  -0.723154 -0.706534 -0.117949 -0.049768   \n",
      "self_spent_satoshi       0.236655   0.319184  0.345867 -0.153500 -0.013102   \n",
      "total_received           0.097569   0.112789  0.181758 -0.087468  0.034609   \n",
      "volume_without_self      0.089751   0.102167  0.170497 -0.082498  0.035208   \n",
      "\n",
      "                        total_fee  total_received_satoshi  total_sent_satoshi   \n",
      "price_usd                0.951675                0.097569            0.097788  \\\n",
      "hash_rate                0.909859                0.112789            0.113037   \n",
      "year                     0.749550                0.181758            0.182001   \n",
      "month                   -0.097611               -0.087468           -0.087428   \n",
      "day                      0.027023                0.034609            0.034626   \n",
      "total_fee                1.000000                0.107786            0.107987   \n",
      "total_received_satoshi   0.107786                1.000000            1.000000   \n",
      "total_sent_satoshi       0.107987                1.000000            1.000000   \n",
      "mean_fee_satoshi         0.981124                0.086294            0.086487   \n",
      "mean_feeUSD              0.927938                0.074591            0.074744   \n",
      "mean_fee_for100          0.242341               -0.021573           -0.021539   \n",
      "nb_transactions          0.691433                0.226881            0.227111   \n",
      "nb_payments              0.540462                0.174043            0.174196   \n",
      "mean_nb_inputs          -0.368566               -0.146362           -0.146533   \n",
      "mean_nb_outputs         -0.199885               -0.101107           -0.101203   \n",
      "nb_mining                0.088749                0.104866            0.104775   \n",
      "total_mining_satoshi    -0.506483                0.036941            0.036601   \n",
      "newly_created_coins     -0.584979                0.023045            0.022703   \n",
      "self_spent_satoshi       0.256746                0.137045            0.137090   \n",
      "total_received           0.107786                1.000000            1.000000   \n",
      "volume_without_self      0.099313                0.999407            0.999406   \n",
      "\n",
      "                        mean_fee_satoshi  mean_feeUSD  ...  nb_transactions   \n",
      "price_usd                       0.951570     0.937520  ...         0.700906  \\\n",
      "hash_rate                       0.884613     0.794962  ...         0.828416   \n",
      "year                            0.711172     0.582998  ...         0.869806   \n",
      "month                          -0.095197    -0.070545  ...         0.046060   \n",
      "day                             0.037035     0.024519  ...        -0.000371   \n",
      "total_fee                       0.981124     0.927938  ...         0.691433   \n",
      "total_received_satoshi          0.086294     0.074591  ...         0.226881   \n",
      "total_sent_satoshi              0.086487     0.074744  ...         0.227111   \n",
      "mean_fee_satoshi                1.000000     0.953039  ...         0.602853   \n",
      "mean_feeUSD                     0.953039     1.000000  ...         0.477831   \n",
      "mean_fee_for100                 0.247203     0.245922  ...         0.159894   \n",
      "nb_transactions                 0.602853     0.477831  ...         1.000000   \n",
      "nb_payments                     0.483522     0.378173  ...         0.754425   \n",
      "mean_nb_inputs                 -0.291459    -0.210316  ...        -0.646055   \n",
      "mean_nb_outputs                -0.158865    -0.136339  ...        -0.353345   \n",
      "nb_mining                       0.044525     0.044489  ...         0.173817   \n",
      "total_mining_satoshi           -0.487153    -0.367922  ...        -0.630704   \n",
      "newly_created_coins            -0.564747    -0.446822  ...        -0.668322   \n",
      "self_spent_satoshi              0.234160     0.155399  ...         0.329620   \n",
      "total_received                  0.086294     0.074591  ...         0.226881   \n",
      "volume_without_self             0.078516     0.069501  ...         0.216372   \n",
      "\n",
      "                        nb_payments  mean_nb_inputs  mean_nb_outputs   \n",
      "price_usd                  0.525985       -0.384144        -0.238592  \\\n",
      "hash_rate                  0.608560       -0.476140        -0.299943   \n",
      "year                       0.627481       -0.552526        -0.342411   \n",
      "month                      0.047068        0.015556        -0.010861   \n",
      "day                       -0.041488       -0.017612        -0.051263   \n",
      "total_fee                  0.540462       -0.368566        -0.199885   \n",
      "total_received_satoshi     0.174043       -0.146362        -0.101107   \n",
      "total_sent_satoshi         0.174196       -0.146533        -0.101203   \n",
      "mean_fee_satoshi           0.483522       -0.291459        -0.158865   \n",
      "mean_feeUSD                0.378173       -0.210316        -0.136339   \n",
      "mean_fee_for100            0.216485        0.068303         0.042150   \n",
      "nb_transactions            0.754425       -0.646055        -0.353345   \n",
      "nb_payments                1.000000       -0.480603         0.333082   \n",
      "mean_nb_inputs            -0.480603        1.000000         0.237808   \n",
      "mean_nb_outputs            0.333082        0.237808         1.000000   \n",
      "nb_mining                  0.142599        0.040082        -0.059515   \n",
      "total_mining_satoshi      -0.408969        0.485798         0.275205   \n",
      "newly_created_coins       -0.443362        0.496967         0.280565   \n",
      "self_spent_satoshi         0.278910       -0.144665        -0.083650   \n",
      "total_received             0.174043       -0.146362        -0.101107   \n",
      "volume_without_self        0.165076       -0.141945        -0.098621   \n",
      "\n",
      "                        nb_mining  total_mining_satoshi  newly_created_coins   \n",
      "price_usd                0.065426             -0.569811            -0.639300  \\\n",
      "hash_rate                0.148014             -0.663786            -0.723154   \n",
      "year                     0.086513             -0.664620            -0.706534   \n",
      "month                    0.020750             -0.136662            -0.117949   \n",
      "day                     -0.090921             -0.049790            -0.049768   \n",
      "total_fee                0.088749             -0.506483            -0.584979   \n",
      "total_received_satoshi   0.104866              0.036941             0.023045   \n",
      "total_sent_satoshi       0.104775              0.036601             0.022703   \n",
      "mean_fee_satoshi         0.044525             -0.487153            -0.564747   \n",
      "mean_feeUSD              0.044489             -0.367922            -0.446822   \n",
      "mean_fee_for100          0.007897             -0.078548            -0.100195   \n",
      "nb_transactions          0.173817             -0.630704            -0.668322   \n",
      "nb_payments              0.142599             -0.408969            -0.443362   \n",
      "mean_nb_inputs           0.040082              0.485798             0.496967   \n",
      "mean_nb_outputs         -0.059515              0.275205             0.280565   \n",
      "nb_mining                1.000000              0.295313             0.268142   \n",
      "total_mining_satoshi     0.295313              1.000000             0.995608   \n",
      "newly_created_coins      0.268142              0.995608             1.000000   \n",
      "self_spent_satoshi       0.075973             -0.106488            -0.128039   \n",
      "total_received           0.104866              0.036941             0.023045   \n",
      "volume_without_self      0.102663              0.040796             0.027591   \n",
      "\n",
      "                        self_spent_satoshi  total_received   \n",
      "price_usd                         0.236655        0.097569  \\\n",
      "hash_rate                         0.319184        0.112789   \n",
      "year                              0.345867        0.181758   \n",
      "month                            -0.153500       -0.087468   \n",
      "day                              -0.013102        0.034609   \n",
      "total_fee                         0.256746        0.107786   \n",
      "total_received_satoshi            0.137045        1.000000   \n",
      "total_sent_satoshi                0.137090        1.000000   \n",
      "mean_fee_satoshi                  0.234160        0.086294   \n",
      "mean_feeUSD                       0.155399        0.074591   \n",
      "mean_fee_for100                   0.053289       -0.021573   \n",
      "nb_transactions                   0.329620        0.226881   \n",
      "nb_payments                       0.278910        0.174043   \n",
      "mean_nb_inputs                   -0.144665       -0.146362   \n",
      "mean_nb_outputs                  -0.083650       -0.101107   \n",
      "nb_mining                         0.075973        0.104866   \n",
      "total_mining_satoshi             -0.106488        0.036941   \n",
      "newly_created_coins              -0.128039        0.023045   \n",
      "self_spent_satoshi                1.000000        0.137045   \n",
      "total_received                    0.137045        1.000000   \n",
      "volume_without_self               0.102864        0.999407   \n",
      "\n",
      "                        volume_without_self  \n",
      "price_usd                          0.089751  \n",
      "hash_rate                          0.102167  \n",
      "year                               0.170497  \n",
      "month                             -0.082498  \n",
      "day                                0.035208  \n",
      "total_fee                          0.099313  \n",
      "total_received_satoshi             0.999407  \n",
      "total_sent_satoshi                 0.999406  \n",
      "mean_fee_satoshi                   0.078516  \n",
      "mean_feeUSD                        0.069501  \n",
      "mean_fee_for100                   -0.023515  \n",
      "nb_transactions                    0.216372  \n",
      "nb_payments                        0.165076  \n",
      "mean_nb_inputs                    -0.141945  \n",
      "mean_nb_outputs                   -0.098621  \n",
      "nb_mining                          0.102663  \n",
      "total_mining_satoshi               0.040796  \n",
      "newly_created_coins                0.027591  \n",
      "self_spent_satoshi                 0.102864  \n",
      "total_received                     0.999407  \n",
      "volume_without_self                1.000000  \n",
      "\n",
      "[21 rows x 21 columns]\n"
     ]
    }
   ],
   "source": [
    "#Turns out that there is a lib func for calculation all the corroloation and storing them in a Matrix\n",
    "sorted_list = sorted(list_of_correlations, key=lambda x: x[0])\n",
    "sorted_list\n",
    "# Create a correlation matrix\n",
    "corr_matrix = df.corr()\n",
    "corr_matrix.style.background_gradient(cmap='coolwarm')\n",
    "\n",
    "# Print the correlation matrix\n",
    "print(corr_matrix)\n"
   ]
  },
  {
   "cell_type": "code",
   "execution_count": 28,
   "id": "2d39551b",
   "metadata": {},
   "outputs": [
    {
     "name": "stdout",
     "output_type": "stream",
     "text": [
      "newly_created_coins  hash_rate                -0.723154\n",
      "                     year                     -0.706534\n",
      "nb_transactions      newly_created_coins      -0.668322\n",
      "year                 total_mining_satoshi     -0.664620\n",
      "hash_rate            total_mining_satoshi     -0.663786\n",
      "                                                 ...   \n",
      "total_sent_satoshi   volume_without_self       0.999406\n",
      "total_received       volume_without_self       0.999407\n",
      "total_sent_satoshi   total_received_satoshi    1.000000\n",
      "                     total_received            1.000000\n",
      "price_usd            price_usd                 1.000000\n",
      "Length: 201, dtype: float64\n"
     ]
    }
   ],
   "source": [
    "# Sort the correlation matrix by the most interesting correlations\n",
    "sorted_corr = corr_matrix.unstack().sort_values(kind=\"quicksort\").drop_duplicates()\n",
    "\n",
    "# Print the sorted correlation matrix\n",
    "print(sorted_corr)"
   ]
  },
  {
   "cell_type": "markdown",
   "id": "a0a30e75",
   "metadata": {},
   "source": [
    "We get the following heatmpa of correlation"
   ]
  },
  {
   "cell_type": "code",
   "execution_count": 38,
   "id": "f7002d2a",
   "metadata": {},
   "outputs": [
    {
     "data": {
      "application/vnd.plotly.v1+json": {
       "config": {
        "plotlyServerURL": "https://plot.ly"
       },
       "data": [
        {
         "colorscale": [
          [
           0,
           "rgb(103,0,31)"
          ],
          [
           0.1,
           "rgb(178,24,43)"
          ],
          [
           0.2,
           "rgb(214,96,77)"
          ],
          [
           0.3,
           "rgb(244,165,130)"
          ],
          [
           0.4,
           "rgb(253,219,199)"
          ],
          [
           0.5,
           "rgb(247,247,247)"
          ],
          [
           0.6,
           "rgb(209,229,240)"
          ],
          [
           0.7,
           "rgb(146,197,222)"
          ],
          [
           0.8,
           "rgb(67,147,195)"
          ],
          [
           0.9,
           "rgb(33,102,172)"
          ],
          [
           1,
           "rgb(5,48,97)"
          ]
         ],
         "type": "heatmap",
         "x": [
          "price_usd",
          "hash_rate",
          "year",
          "month",
          "day",
          "total_fee",
          "total_received_satoshi",
          "total_sent_satoshi",
          "mean_fee_satoshi",
          "mean_feeUSD",
          "mean_fee_for100",
          "nb_transactions",
          "nb_payments",
          "mean_nb_inputs",
          "mean_nb_outputs",
          "nb_mining",
          "total_mining_satoshi",
          "newly_created_coins",
          "self_spent_satoshi",
          "total_received",
          "volume_without_self"
         ],
         "y": [
          "price_usd",
          "hash_rate",
          "year",
          "month",
          "day",
          "total_fee",
          "total_received_satoshi",
          "total_sent_satoshi",
          "mean_fee_satoshi",
          "mean_feeUSD",
          "mean_fee_for100",
          "nb_transactions",
          "nb_payments",
          "mean_nb_inputs",
          "mean_nb_outputs",
          "nb_mining",
          "total_mining_satoshi",
          "newly_created_coins",
          "self_spent_satoshi",
          "total_received",
          "volume_without_self"
         ],
         "z": [
          [
           1,
           0.9374466899233475,
           0.7876602721474986,
           -0.05697339125185453,
           0.021652930451028174,
           0.9516748677947203,
           0.09756850965979509,
           0.09778767437689803,
           0.9515701688144628,
           0.93752004819651,
           0.21862019509203542,
           0.7009060681375394,
           0.5259850058477299,
           -0.38414361260697455,
           -0.23859188165153677,
           0.06542562794526804,
           -0.5698110553445587,
           -0.6392996477389672,
           0.23665473554166952,
           0.09756850965979509,
           0.08975105038260991
          ],
          [
           0.9374466899233475,
           1,
           0.9143946915187308,
           -0.10673123144500615,
           0.025522838814358857,
           0.9098586948977526,
           0.11278914447531957,
           0.11303707501231798,
           0.8846125770096076,
           0.7949623825815928,
           0.1849631835544514,
           0.8284159597998971,
           0.6085600963748781,
           -0.4761399757913977,
           -0.2999432581220687,
           0.14801447855134822,
           -0.6637855621161506,
           -0.7231538104321024,
           0.3191838329804173,
           0.11278914447531957,
           0.10216707208734212
          ],
          [
           0.7876602721474986,
           0.9143946915187308,
           1,
           -0.285986184730963,
           -0.0058267149539248915,
           0.7495498294258266,
           0.18175834780175285,
           0.1820011395809051,
           0.7111719425130081,
           0.5829975713935457,
           0.10791214033994762,
           0.869806008061003,
           0.6274813285857429,
           -0.5525262647452889,
           -0.3424105952326695,
           0.08651321238869787,
           -0.664620482129707,
           -0.7065342085512735,
           0.3458668978661132,
           0.18175834780175285,
           0.17049657329925033
          ],
          [
           -0.05697339125185453,
           -0.10673123144500615,
           -0.285986184730963,
           1,
           0.007689175203048241,
           -0.09761075579644608,
           -0.08746776962692061,
           -0.0874281585866228,
           -0.09519696842201285,
           -0.07054464192406962,
           0.062478809234152735,
           0.0460598847999665,
           0.047067597680220834,
           0.01555584459421733,
           -0.010860625247913298,
           0.020749700136005408,
           -0.13666166569308053,
           -0.11794882121354344,
           -0.15349980982497546,
           -0.08746776962692061,
           -0.08249802216343897
          ],
          [
           0.021652930451028174,
           0.025522838814358857,
           -0.0058267149539248915,
           0.007689175203048241,
           1,
           0.02702332129657352,
           0.03460870872493781,
           0.03462598111411348,
           0.03703478750796335,
           0.024518715139787782,
           -0.015173821359927729,
           -0.0003713184131170282,
           -0.04148764003293538,
           -0.017611772527458137,
           -0.05126265933443407,
           -0.0909207074714737,
           -0.04979013728960237,
           -0.049767502689098,
           -0.013101579493269386,
           0.03460870872493781,
           0.0352083361893551
          ],
          [
           0.9516748677947203,
           0.9098586948977526,
           0.7495498294258266,
           -0.09761075579644608,
           0.02702332129657352,
           1,
           0.10778597808745076,
           0.10798666506741945,
           0.9811238690766946,
           0.9279376312666002,
           0.24234105017585328,
           0.6914329270255365,
           0.5404620429454489,
           -0.3685657651289262,
           -0.1998849090001862,
           0.08874872810628683,
           -0.5064827144436223,
           -0.584978534814252,
           0.2567458163798541,
           0.10778597808745076,
           0.0993129122764331
          ],
          [
           0.09756850965979509,
           0.11278914447531957,
           0.18175834780175285,
           -0.08746776962692061,
           0.03460870872493781,
           0.10778597808745076,
           1,
           0.9999999416763468,
           0.08629380788477653,
           0.07459067346139386,
           -0.021573064752847853,
           0.22688123333484947,
           0.17404322207890283,
           -0.1463621076372879,
           -0.10110685000220916,
           0.1048658216138282,
           0.03694084384834224,
           0.023044791968545125,
           0.13704511897483015,
           1,
           0.9994073018791768
          ],
          [
           0.09778767437689803,
           0.11303707501231798,
           0.1820011395809051,
           -0.0874281585866228,
           0.03462598111411348,
           0.10798666506741945,
           0.9999999416763468,
           1,
           0.0864874153915437,
           0.07474390298295773,
           -0.02153900403790209,
           0.22711132330461584,
           0.1741960467988241,
           -0.14653302877624477,
           -0.10120348881542776,
           0.10477503645916834,
           0.03660100540450463,
           0.022703344649324848,
           0.13708993166796546,
           0.9999999416763469,
           0.9994056859647017
          ],
          [
           0.9515701688144628,
           0.8846125770096076,
           0.7111719425130081,
           -0.09519696842201285,
           0.03703478750796335,
           0.9811238690766946,
           0.08629380788477653,
           0.0864874153915437,
           1,
           0.9530394735274934,
           0.24720305500522397,
           0.6028526356365366,
           0.4835215341690023,
           -0.2914593936659742,
           -0.15886488145477534,
           0.04452517023611578,
           -0.4871531317004933,
           -0.564747357261683,
           0.2341602463972546,
           0.08629380788477654,
           0.07851602314285547
          ],
          [
           0.93752004819651,
           0.7949623825815928,
           0.5829975713935457,
           -0.07054464192406962,
           0.024518715139787782,
           0.9279376312666002,
           0.07459067346139386,
           0.07474390298295773,
           0.9530394735274934,
           1,
           0.245922410035795,
           0.4778307763329015,
           0.37817287832540525,
           -0.21031592955492312,
           -0.13633934875370185,
           0.04448910490383908,
           -0.36792221714471474,
           -0.4468220033479351,
           0.15539941693623974,
           0.07459067346139386,
           0.06950121334500553
          ],
          [
           0.21862019509203542,
           0.1849631835544514,
           0.10791214033994762,
           0.062478809234152735,
           -0.015173821359927729,
           0.24234105017585328,
           -0.021573064752847853,
           -0.02153900403790209,
           0.24720305500522397,
           0.245922410035795,
           1,
           0.1598943433527826,
           0.21648534759844312,
           0.06830262399579866,
           0.0421498625020709,
           0.007896687421947794,
           -0.07854778634446004,
           -0.1001948193464608,
           0.05328906096668144,
           -0.021573064752847846,
           -0.023514944808997844
          ],
          [
           0.7009060681375394,
           0.8284159597998971,
           0.869806008061003,
           0.0460598847999665,
           -0.0003713184131170282,
           0.6914329270255365,
           0.22688123333484947,
           0.22711132330461584,
           0.6028526356365366,
           0.4778307763329015,
           0.1598943433527826,
           1,
           0.7544250627073407,
           -0.6460551329378177,
           -0.3533446632132049,
           0.1738172513682461,
           -0.6307038603853691,
           -0.668321764140683,
           0.3296202502382761,
           0.22688123333484939,
           0.2163722284359449
          ],
          [
           0.5259850058477299,
           0.6085600963748781,
           0.6274813285857429,
           0.047067597680220834,
           -0.04148764003293538,
           0.5404620429454489,
           0.17404322207890283,
           0.1741960467988241,
           0.4835215341690023,
           0.37817287832540525,
           0.21648534759844312,
           0.7544250627073407,
           1,
           -0.4806034339903984,
           0.3330815994862357,
           0.14259870127079588,
           -0.4089685167066963,
           -0.44336219741838334,
           0.2789096891621621,
           0.17404322207890283,
           0.16507619809948124
          ],
          [
           -0.38414361260697455,
           -0.4761399757913977,
           -0.5525262647452889,
           0.01555584459421733,
           -0.017611772527458137,
           -0.3685657651289262,
           -0.1463621076372879,
           -0.14653302877624477,
           -0.2914593936659742,
           -0.21031592955492312,
           0.06830262399579866,
           -0.6460551329378177,
           -0.4806034339903984,
           1,
           0.23780800217624395,
           0.0400823283596915,
           0.4857981429609298,
           0.49696659373788893,
           -0.1446653982069597,
           -0.146362107637288,
           -0.14194496316228908
          ],
          [
           -0.23859188165153677,
           -0.2999432581220687,
           -0.3424105952326695,
           -0.010860625247913298,
           -0.05126265933443407,
           -0.1998849090001862,
           -0.10110685000220916,
           -0.10120348881542776,
           -0.15886488145477534,
           -0.13633934875370185,
           0.0421498625020709,
           -0.3533446632132049,
           0.3330815994862357,
           0.23780800217624395,
           1,
           -0.059514930674614226,
           0.2752053132408332,
           0.28056509163788307,
           -0.08365009851554416,
           -0.1011068500022092,
           -0.09862142028040102
          ],
          [
           0.06542562794526804,
           0.14801447855134822,
           0.08651321238869787,
           0.020749700136005408,
           -0.0909207074714737,
           0.08874872810628683,
           0.1048658216138282,
           0.10477503645916834,
           0.04452517023611578,
           0.04448910490383908,
           0.007896687421947794,
           0.1738172513682461,
           0.14259870127079588,
           0.0400823283596915,
           -0.059514930674614226,
           1,
           0.29531349540004176,
           0.2681418963433082,
           0.07597305342077436,
           0.10486582161382825,
           0.10266286216637792
          ],
          [
           -0.5698110553445587,
           -0.6637855621161506,
           -0.664620482129707,
           -0.13666166569308053,
           -0.04979013728960237,
           -0.5064827144436223,
           0.03694084384834224,
           0.03660100540450463,
           -0.4871531317004933,
           -0.36792221714471474,
           -0.07854778634446004,
           -0.6307038603853691,
           -0.4089685167066963,
           0.4857981429609298,
           0.2752053132408332,
           0.29531349540004176,
           1,
           0.9956084144572299,
           -0.106487511161423,
           0.036940843848342224,
           0.0407955793175624
          ],
          [
           -0.6392996477389672,
           -0.7231538104321024,
           -0.7065342085512735,
           -0.11794882121354344,
           -0.049767502689098,
           -0.584978534814252,
           0.023044791968545125,
           0.022703344649324848,
           -0.564747357261683,
           -0.4468220033479351,
           -0.1001948193464608,
           -0.668321764140683,
           -0.44336219741838334,
           0.49696659373788893,
           0.28056509163788307,
           0.2681418963433082,
           0.9956084144572299,
           1,
           -0.12803939754002427,
           0.023044791968545114,
           0.02759056094412718
          ],
          [
           0.23665473554166952,
           0.3191838329804173,
           0.3458668978661132,
           -0.15349980982497546,
           -0.013101579493269386,
           0.2567458163798541,
           0.13704511897483015,
           0.13708993166796546,
           0.2341602463972546,
           0.15539941693623974,
           0.05328906096668144,
           0.3296202502382761,
           0.2789096891621621,
           -0.1446653982069597,
           -0.08365009851554416,
           0.07597305342077436,
           -0.106487511161423,
           -0.12803939754002427,
           1,
           0.13704511897483018,
           0.10286421239747652
          ],
          [
           0.09756850965979509,
           0.11278914447531957,
           0.18175834780175285,
           -0.08746776962692061,
           0.03460870872493781,
           0.10778597808745076,
           1,
           0.9999999416763469,
           0.08629380788477654,
           0.07459067346139386,
           -0.021573064752847846,
           0.22688123333484939,
           0.17404322207890283,
           -0.146362107637288,
           -0.1011068500022092,
           0.10486582161382825,
           0.036940843848342224,
           0.023044791968545114,
           0.13704511897483018,
           1,
           0.9994073018791768
          ],
          [
           0.08975105038260991,
           0.10216707208734212,
           0.17049657329925033,
           -0.08249802216343897,
           0.0352083361893551,
           0.0993129122764331,
           0.9994073018791768,
           0.9994056859647017,
           0.07851602314285547,
           0.06950121334500553,
           -0.023514944808997844,
           0.2163722284359449,
           0.16507619809948124,
           -0.14194496316228908,
           -0.09862142028040102,
           0.10266286216637792,
           0.0407955793175624,
           0.02759056094412718,
           0.10286421239747652,
           0.9994073018791768,
           1
          ]
         ]
        }
       ],
       "layout": {
        "template": {
         "data": {
          "bar": [
           {
            "error_x": {
             "color": "#2a3f5f"
            },
            "error_y": {
             "color": "#2a3f5f"
            },
            "marker": {
             "line": {
              "color": "#E5ECF6",
              "width": 0.5
             },
             "pattern": {
              "fillmode": "overlay",
              "size": 10,
              "solidity": 0.2
             }
            },
            "type": "bar"
           }
          ],
          "barpolar": [
           {
            "marker": {
             "line": {
              "color": "#E5ECF6",
              "width": 0.5
             },
             "pattern": {
              "fillmode": "overlay",
              "size": 10,
              "solidity": 0.2
             }
            },
            "type": "barpolar"
           }
          ],
          "carpet": [
           {
            "aaxis": {
             "endlinecolor": "#2a3f5f",
             "gridcolor": "white",
             "linecolor": "white",
             "minorgridcolor": "white",
             "startlinecolor": "#2a3f5f"
            },
            "baxis": {
             "endlinecolor": "#2a3f5f",
             "gridcolor": "white",
             "linecolor": "white",
             "minorgridcolor": "white",
             "startlinecolor": "#2a3f5f"
            },
            "type": "carpet"
           }
          ],
          "choropleth": [
           {
            "colorbar": {
             "outlinewidth": 0,
             "ticks": ""
            },
            "type": "choropleth"
           }
          ],
          "contour": [
           {
            "colorbar": {
             "outlinewidth": 0,
             "ticks": ""
            },
            "colorscale": [
             [
              0,
              "#0d0887"
             ],
             [
              0.1111111111111111,
              "#46039f"
             ],
             [
              0.2222222222222222,
              "#7201a8"
             ],
             [
              0.3333333333333333,
              "#9c179e"
             ],
             [
              0.4444444444444444,
              "#bd3786"
             ],
             [
              0.5555555555555556,
              "#d8576b"
             ],
             [
              0.6666666666666666,
              "#ed7953"
             ],
             [
              0.7777777777777778,
              "#fb9f3a"
             ],
             [
              0.8888888888888888,
              "#fdca26"
             ],
             [
              1,
              "#f0f921"
             ]
            ],
            "type": "contour"
           }
          ],
          "contourcarpet": [
           {
            "colorbar": {
             "outlinewidth": 0,
             "ticks": ""
            },
            "type": "contourcarpet"
           }
          ],
          "heatmap": [
           {
            "colorbar": {
             "outlinewidth": 0,
             "ticks": ""
            },
            "colorscale": [
             [
              0,
              "#0d0887"
             ],
             [
              0.1111111111111111,
              "#46039f"
             ],
             [
              0.2222222222222222,
              "#7201a8"
             ],
             [
              0.3333333333333333,
              "#9c179e"
             ],
             [
              0.4444444444444444,
              "#bd3786"
             ],
             [
              0.5555555555555556,
              "#d8576b"
             ],
             [
              0.6666666666666666,
              "#ed7953"
             ],
             [
              0.7777777777777778,
              "#fb9f3a"
             ],
             [
              0.8888888888888888,
              "#fdca26"
             ],
             [
              1,
              "#f0f921"
             ]
            ],
            "type": "heatmap"
           }
          ],
          "heatmapgl": [
           {
            "colorbar": {
             "outlinewidth": 0,
             "ticks": ""
            },
            "colorscale": [
             [
              0,
              "#0d0887"
             ],
             [
              0.1111111111111111,
              "#46039f"
             ],
             [
              0.2222222222222222,
              "#7201a8"
             ],
             [
              0.3333333333333333,
              "#9c179e"
             ],
             [
              0.4444444444444444,
              "#bd3786"
             ],
             [
              0.5555555555555556,
              "#d8576b"
             ],
             [
              0.6666666666666666,
              "#ed7953"
             ],
             [
              0.7777777777777778,
              "#fb9f3a"
             ],
             [
              0.8888888888888888,
              "#fdca26"
             ],
             [
              1,
              "#f0f921"
             ]
            ],
            "type": "heatmapgl"
           }
          ],
          "histogram": [
           {
            "marker": {
             "pattern": {
              "fillmode": "overlay",
              "size": 10,
              "solidity": 0.2
             }
            },
            "type": "histogram"
           }
          ],
          "histogram2d": [
           {
            "colorbar": {
             "outlinewidth": 0,
             "ticks": ""
            },
            "colorscale": [
             [
              0,
              "#0d0887"
             ],
             [
              0.1111111111111111,
              "#46039f"
             ],
             [
              0.2222222222222222,
              "#7201a8"
             ],
             [
              0.3333333333333333,
              "#9c179e"
             ],
             [
              0.4444444444444444,
              "#bd3786"
             ],
             [
              0.5555555555555556,
              "#d8576b"
             ],
             [
              0.6666666666666666,
              "#ed7953"
             ],
             [
              0.7777777777777778,
              "#fb9f3a"
             ],
             [
              0.8888888888888888,
              "#fdca26"
             ],
             [
              1,
              "#f0f921"
             ]
            ],
            "type": "histogram2d"
           }
          ],
          "histogram2dcontour": [
           {
            "colorbar": {
             "outlinewidth": 0,
             "ticks": ""
            },
            "colorscale": [
             [
              0,
              "#0d0887"
             ],
             [
              0.1111111111111111,
              "#46039f"
             ],
             [
              0.2222222222222222,
              "#7201a8"
             ],
             [
              0.3333333333333333,
              "#9c179e"
             ],
             [
              0.4444444444444444,
              "#bd3786"
             ],
             [
              0.5555555555555556,
              "#d8576b"
             ],
             [
              0.6666666666666666,
              "#ed7953"
             ],
             [
              0.7777777777777778,
              "#fb9f3a"
             ],
             [
              0.8888888888888888,
              "#fdca26"
             ],
             [
              1,
              "#f0f921"
             ]
            ],
            "type": "histogram2dcontour"
           }
          ],
          "mesh3d": [
           {
            "colorbar": {
             "outlinewidth": 0,
             "ticks": ""
            },
            "type": "mesh3d"
           }
          ],
          "parcoords": [
           {
            "line": {
             "colorbar": {
              "outlinewidth": 0,
              "ticks": ""
             }
            },
            "type": "parcoords"
           }
          ],
          "pie": [
           {
            "automargin": true,
            "type": "pie"
           }
          ],
          "scatter": [
           {
            "fillpattern": {
             "fillmode": "overlay",
             "size": 10,
             "solidity": 0.2
            },
            "type": "scatter"
           }
          ],
          "scatter3d": [
           {
            "line": {
             "colorbar": {
              "outlinewidth": 0,
              "ticks": ""
             }
            },
            "marker": {
             "colorbar": {
              "outlinewidth": 0,
              "ticks": ""
             }
            },
            "type": "scatter3d"
           }
          ],
          "scattercarpet": [
           {
            "marker": {
             "colorbar": {
              "outlinewidth": 0,
              "ticks": ""
             }
            },
            "type": "scattercarpet"
           }
          ],
          "scattergeo": [
           {
            "marker": {
             "colorbar": {
              "outlinewidth": 0,
              "ticks": ""
             }
            },
            "type": "scattergeo"
           }
          ],
          "scattergl": [
           {
            "marker": {
             "colorbar": {
              "outlinewidth": 0,
              "ticks": ""
             }
            },
            "type": "scattergl"
           }
          ],
          "scattermapbox": [
           {
            "marker": {
             "colorbar": {
              "outlinewidth": 0,
              "ticks": ""
             }
            },
            "type": "scattermapbox"
           }
          ],
          "scatterpolar": [
           {
            "marker": {
             "colorbar": {
              "outlinewidth": 0,
              "ticks": ""
             }
            },
            "type": "scatterpolar"
           }
          ],
          "scatterpolargl": [
           {
            "marker": {
             "colorbar": {
              "outlinewidth": 0,
              "ticks": ""
             }
            },
            "type": "scatterpolargl"
           }
          ],
          "scatterternary": [
           {
            "marker": {
             "colorbar": {
              "outlinewidth": 0,
              "ticks": ""
             }
            },
            "type": "scatterternary"
           }
          ],
          "surface": [
           {
            "colorbar": {
             "outlinewidth": 0,
             "ticks": ""
            },
            "colorscale": [
             [
              0,
              "#0d0887"
             ],
             [
              0.1111111111111111,
              "#46039f"
             ],
             [
              0.2222222222222222,
              "#7201a8"
             ],
             [
              0.3333333333333333,
              "#9c179e"
             ],
             [
              0.4444444444444444,
              "#bd3786"
             ],
             [
              0.5555555555555556,
              "#d8576b"
             ],
             [
              0.6666666666666666,
              "#ed7953"
             ],
             [
              0.7777777777777778,
              "#fb9f3a"
             ],
             [
              0.8888888888888888,
              "#fdca26"
             ],
             [
              1,
              "#f0f921"
             ]
            ],
            "type": "surface"
           }
          ],
          "table": [
           {
            "cells": {
             "fill": {
              "color": "#EBF0F8"
             },
             "line": {
              "color": "white"
             }
            },
            "header": {
             "fill": {
              "color": "#C8D4E3"
             },
             "line": {
              "color": "white"
             }
            },
            "type": "table"
           }
          ]
         },
         "layout": {
          "annotationdefaults": {
           "arrowcolor": "#2a3f5f",
           "arrowhead": 0,
           "arrowwidth": 1
          },
          "autotypenumbers": "strict",
          "coloraxis": {
           "colorbar": {
            "outlinewidth": 0,
            "ticks": ""
           }
          },
          "colorscale": {
           "diverging": [
            [
             0,
             "#8e0152"
            ],
            [
             0.1,
             "#c51b7d"
            ],
            [
             0.2,
             "#de77ae"
            ],
            [
             0.3,
             "#f1b6da"
            ],
            [
             0.4,
             "#fde0ef"
            ],
            [
             0.5,
             "#f7f7f7"
            ],
            [
             0.6,
             "#e6f5d0"
            ],
            [
             0.7,
             "#b8e186"
            ],
            [
             0.8,
             "#7fbc41"
            ],
            [
             0.9,
             "#4d9221"
            ],
            [
             1,
             "#276419"
            ]
           ],
           "sequential": [
            [
             0,
             "#0d0887"
            ],
            [
             0.1111111111111111,
             "#46039f"
            ],
            [
             0.2222222222222222,
             "#7201a8"
            ],
            [
             0.3333333333333333,
             "#9c179e"
            ],
            [
             0.4444444444444444,
             "#bd3786"
            ],
            [
             0.5555555555555556,
             "#d8576b"
            ],
            [
             0.6666666666666666,
             "#ed7953"
            ],
            [
             0.7777777777777778,
             "#fb9f3a"
            ],
            [
             0.8888888888888888,
             "#fdca26"
            ],
            [
             1,
             "#f0f921"
            ]
           ],
           "sequentialminus": [
            [
             0,
             "#0d0887"
            ],
            [
             0.1111111111111111,
             "#46039f"
            ],
            [
             0.2222222222222222,
             "#7201a8"
            ],
            [
             0.3333333333333333,
             "#9c179e"
            ],
            [
             0.4444444444444444,
             "#bd3786"
            ],
            [
             0.5555555555555556,
             "#d8576b"
            ],
            [
             0.6666666666666666,
             "#ed7953"
            ],
            [
             0.7777777777777778,
             "#fb9f3a"
            ],
            [
             0.8888888888888888,
             "#fdca26"
            ],
            [
             1,
             "#f0f921"
            ]
           ]
          },
          "colorway": [
           "#636efa",
           "#EF553B",
           "#00cc96",
           "#ab63fa",
           "#FFA15A",
           "#19d3f3",
           "#FF6692",
           "#B6E880",
           "#FF97FF",
           "#FECB52"
          ],
          "font": {
           "color": "#2a3f5f"
          },
          "geo": {
           "bgcolor": "white",
           "lakecolor": "white",
           "landcolor": "#E5ECF6",
           "showlakes": true,
           "showland": true,
           "subunitcolor": "white"
          },
          "hoverlabel": {
           "align": "left"
          },
          "hovermode": "closest",
          "mapbox": {
           "style": "light"
          },
          "paper_bgcolor": "white",
          "plot_bgcolor": "#E5ECF6",
          "polar": {
           "angularaxis": {
            "gridcolor": "white",
            "linecolor": "white",
            "ticks": ""
           },
           "bgcolor": "#E5ECF6",
           "radialaxis": {
            "gridcolor": "white",
            "linecolor": "white",
            "ticks": ""
           }
          },
          "scene": {
           "xaxis": {
            "backgroundcolor": "#E5ECF6",
            "gridcolor": "white",
            "gridwidth": 2,
            "linecolor": "white",
            "showbackground": true,
            "ticks": "",
            "zerolinecolor": "white"
           },
           "yaxis": {
            "backgroundcolor": "#E5ECF6",
            "gridcolor": "white",
            "gridwidth": 2,
            "linecolor": "white",
            "showbackground": true,
            "ticks": "",
            "zerolinecolor": "white"
           },
           "zaxis": {
            "backgroundcolor": "#E5ECF6",
            "gridcolor": "white",
            "gridwidth": 2,
            "linecolor": "white",
            "showbackground": true,
            "ticks": "",
            "zerolinecolor": "white"
           }
          },
          "shapedefaults": {
           "line": {
            "color": "#2a3f5f"
           }
          },
          "ternary": {
           "aaxis": {
            "gridcolor": "white",
            "linecolor": "white",
            "ticks": ""
           },
           "baxis": {
            "gridcolor": "white",
            "linecolor": "white",
            "ticks": ""
           },
           "bgcolor": "#E5ECF6",
           "caxis": {
            "gridcolor": "white",
            "linecolor": "white",
            "ticks": ""
           }
          },
          "title": {
           "x": 0.05
          },
          "xaxis": {
           "automargin": true,
           "gridcolor": "white",
           "linecolor": "white",
           "ticks": "",
           "title": {
            "standoff": 15
           },
           "zerolinecolor": "white",
           "zerolinewidth": 2
          },
          "yaxis": {
           "automargin": true,
           "gridcolor": "white",
           "linecolor": "white",
           "ticks": "",
           "title": {
            "standoff": 15
           },
           "zerolinecolor": "white",
           "zerolinewidth": 2
          }
         }
        },
        "title": {
         "text": "Correlation Matrix Heatmap"
        },
        "xaxis": {
         "title": {
          "text": "Variables"
         }
        },
        "yaxis": {
         "title": {
          "text": "Variables"
         }
        }
       }
      },
      "text/html": [
       "<div>                            <div id=\"abbde07e-8011-4652-96cb-4f5e1476f66c\" class=\"plotly-graph-div\" style=\"height:525px; width:100%;\"></div>            <script type=\"text/javascript\">                require([\"plotly\"], function(Plotly) {                    window.PLOTLYENV=window.PLOTLYENV || {};                                    if (document.getElementById(\"abbde07e-8011-4652-96cb-4f5e1476f66c\")) {                    Plotly.newPlot(                        \"abbde07e-8011-4652-96cb-4f5e1476f66c\",                        [{\"colorscale\":[[0.0,\"rgb(103,0,31)\"],[0.1,\"rgb(178,24,43)\"],[0.2,\"rgb(214,96,77)\"],[0.3,\"rgb(244,165,130)\"],[0.4,\"rgb(253,219,199)\"],[0.5,\"rgb(247,247,247)\"],[0.6,\"rgb(209,229,240)\"],[0.7,\"rgb(146,197,222)\"],[0.8,\"rgb(67,147,195)\"],[0.9,\"rgb(33,102,172)\"],[1.0,\"rgb(5,48,97)\"]],\"x\":[\"price_usd\",\"hash_rate\",\"year\",\"month\",\"day\",\"total_fee\",\"total_received_satoshi\",\"total_sent_satoshi\",\"mean_fee_satoshi\",\"mean_feeUSD\",\"mean_fee_for100\",\"nb_transactions\",\"nb_payments\",\"mean_nb_inputs\",\"mean_nb_outputs\",\"nb_mining\",\"total_mining_satoshi\",\"newly_created_coins\",\"self_spent_satoshi\",\"total_received\",\"volume_without_self\"],\"y\":[\"price_usd\",\"hash_rate\",\"year\",\"month\",\"day\",\"total_fee\",\"total_received_satoshi\",\"total_sent_satoshi\",\"mean_fee_satoshi\",\"mean_feeUSD\",\"mean_fee_for100\",\"nb_transactions\",\"nb_payments\",\"mean_nb_inputs\",\"mean_nb_outputs\",\"nb_mining\",\"total_mining_satoshi\",\"newly_created_coins\",\"self_spent_satoshi\",\"total_received\",\"volume_without_self\"],\"z\":[[1.0,0.9374466899233475,0.7876602721474986,-0.05697339125185453,0.021652930451028174,0.9516748677947203,0.09756850965979509,0.09778767437689803,0.9515701688144628,0.93752004819651,0.21862019509203542,0.7009060681375394,0.5259850058477299,-0.38414361260697455,-0.23859188165153677,0.06542562794526804,-0.5698110553445587,-0.6392996477389672,0.23665473554166952,0.09756850965979509,0.08975105038260991],[0.9374466899233475,1.0,0.9143946915187308,-0.10673123144500615,0.025522838814358857,0.9098586948977526,0.11278914447531957,0.11303707501231798,0.8846125770096076,0.7949623825815928,0.1849631835544514,0.8284159597998971,0.6085600963748781,-0.4761399757913977,-0.2999432581220687,0.14801447855134822,-0.6637855621161506,-0.7231538104321024,0.3191838329804173,0.11278914447531957,0.10216707208734212],[0.7876602721474986,0.9143946915187308,1.0,-0.285986184730963,-0.0058267149539248915,0.7495498294258266,0.18175834780175285,0.1820011395809051,0.7111719425130081,0.5829975713935457,0.10791214033994762,0.869806008061003,0.6274813285857429,-0.5525262647452889,-0.3424105952326695,0.08651321238869787,-0.664620482129707,-0.7065342085512735,0.3458668978661132,0.18175834780175285,0.17049657329925033],[-0.05697339125185453,-0.10673123144500615,-0.285986184730963,1.0,0.007689175203048241,-0.09761075579644608,-0.08746776962692061,-0.0874281585866228,-0.09519696842201285,-0.07054464192406962,0.062478809234152735,0.0460598847999665,0.047067597680220834,0.01555584459421733,-0.010860625247913298,0.020749700136005408,-0.13666166569308053,-0.11794882121354344,-0.15349980982497546,-0.08746776962692061,-0.08249802216343897],[0.021652930451028174,0.025522838814358857,-0.0058267149539248915,0.007689175203048241,1.0,0.02702332129657352,0.03460870872493781,0.03462598111411348,0.03703478750796335,0.024518715139787782,-0.015173821359927729,-0.0003713184131170282,-0.04148764003293538,-0.017611772527458137,-0.05126265933443407,-0.0909207074714737,-0.04979013728960237,-0.049767502689098,-0.013101579493269386,0.03460870872493781,0.0352083361893551],[0.9516748677947203,0.9098586948977526,0.7495498294258266,-0.09761075579644608,0.02702332129657352,1.0,0.10778597808745076,0.10798666506741945,0.9811238690766946,0.9279376312666002,0.24234105017585328,0.6914329270255365,0.5404620429454489,-0.3685657651289262,-0.1998849090001862,0.08874872810628683,-0.5064827144436223,-0.584978534814252,0.2567458163798541,0.10778597808745076,0.0993129122764331],[0.09756850965979509,0.11278914447531957,0.18175834780175285,-0.08746776962692061,0.03460870872493781,0.10778597808745076,1.0,0.9999999416763468,0.08629380788477653,0.07459067346139386,-0.021573064752847853,0.22688123333484947,0.17404322207890283,-0.1463621076372879,-0.10110685000220916,0.1048658216138282,0.03694084384834224,0.023044791968545125,0.13704511897483015,1.0,0.9994073018791768],[0.09778767437689803,0.11303707501231798,0.1820011395809051,-0.0874281585866228,0.03462598111411348,0.10798666506741945,0.9999999416763468,1.0,0.0864874153915437,0.07474390298295773,-0.02153900403790209,0.22711132330461584,0.1741960467988241,-0.14653302877624477,-0.10120348881542776,0.10477503645916834,0.03660100540450463,0.022703344649324848,0.13708993166796546,0.9999999416763469,0.9994056859647017],[0.9515701688144628,0.8846125770096076,0.7111719425130081,-0.09519696842201285,0.03703478750796335,0.9811238690766946,0.08629380788477653,0.0864874153915437,1.0,0.9530394735274934,0.24720305500522397,0.6028526356365366,0.4835215341690023,-0.2914593936659742,-0.15886488145477534,0.04452517023611578,-0.4871531317004933,-0.564747357261683,0.2341602463972546,0.08629380788477654,0.07851602314285547],[0.93752004819651,0.7949623825815928,0.5829975713935457,-0.07054464192406962,0.024518715139787782,0.9279376312666002,0.07459067346139386,0.07474390298295773,0.9530394735274934,1.0,0.245922410035795,0.4778307763329015,0.37817287832540525,-0.21031592955492312,-0.13633934875370185,0.04448910490383908,-0.36792221714471474,-0.4468220033479351,0.15539941693623974,0.07459067346139386,0.06950121334500553],[0.21862019509203542,0.1849631835544514,0.10791214033994762,0.062478809234152735,-0.015173821359927729,0.24234105017585328,-0.021573064752847853,-0.02153900403790209,0.24720305500522397,0.245922410035795,1.0,0.1598943433527826,0.21648534759844312,0.06830262399579866,0.0421498625020709,0.007896687421947794,-0.07854778634446004,-0.1001948193464608,0.05328906096668144,-0.021573064752847846,-0.023514944808997844],[0.7009060681375394,0.8284159597998971,0.869806008061003,0.0460598847999665,-0.0003713184131170282,0.6914329270255365,0.22688123333484947,0.22711132330461584,0.6028526356365366,0.4778307763329015,0.1598943433527826,1.0,0.7544250627073407,-0.6460551329378177,-0.3533446632132049,0.1738172513682461,-0.6307038603853691,-0.668321764140683,0.3296202502382761,0.22688123333484939,0.2163722284359449],[0.5259850058477299,0.6085600963748781,0.6274813285857429,0.047067597680220834,-0.04148764003293538,0.5404620429454489,0.17404322207890283,0.1741960467988241,0.4835215341690023,0.37817287832540525,0.21648534759844312,0.7544250627073407,1.0,-0.4806034339903984,0.3330815994862357,0.14259870127079588,-0.4089685167066963,-0.44336219741838334,0.2789096891621621,0.17404322207890283,0.16507619809948124],[-0.38414361260697455,-0.4761399757913977,-0.5525262647452889,0.01555584459421733,-0.017611772527458137,-0.3685657651289262,-0.1463621076372879,-0.14653302877624477,-0.2914593936659742,-0.21031592955492312,0.06830262399579866,-0.6460551329378177,-0.4806034339903984,1.0,0.23780800217624395,0.0400823283596915,0.4857981429609298,0.49696659373788893,-0.1446653982069597,-0.146362107637288,-0.14194496316228908],[-0.23859188165153677,-0.2999432581220687,-0.3424105952326695,-0.010860625247913298,-0.05126265933443407,-0.1998849090001862,-0.10110685000220916,-0.10120348881542776,-0.15886488145477534,-0.13633934875370185,0.0421498625020709,-0.3533446632132049,0.3330815994862357,0.23780800217624395,1.0,-0.059514930674614226,0.2752053132408332,0.28056509163788307,-0.08365009851554416,-0.1011068500022092,-0.09862142028040102],[0.06542562794526804,0.14801447855134822,0.08651321238869787,0.020749700136005408,-0.0909207074714737,0.08874872810628683,0.1048658216138282,0.10477503645916834,0.04452517023611578,0.04448910490383908,0.007896687421947794,0.1738172513682461,0.14259870127079588,0.0400823283596915,-0.059514930674614226,1.0,0.29531349540004176,0.2681418963433082,0.07597305342077436,0.10486582161382825,0.10266286216637792],[-0.5698110553445587,-0.6637855621161506,-0.664620482129707,-0.13666166569308053,-0.04979013728960237,-0.5064827144436223,0.03694084384834224,0.03660100540450463,-0.4871531317004933,-0.36792221714471474,-0.07854778634446004,-0.6307038603853691,-0.4089685167066963,0.4857981429609298,0.2752053132408332,0.29531349540004176,1.0,0.9956084144572299,-0.106487511161423,0.036940843848342224,0.0407955793175624],[-0.6392996477389672,-0.7231538104321024,-0.7065342085512735,-0.11794882121354344,-0.049767502689098,-0.584978534814252,0.023044791968545125,0.022703344649324848,-0.564747357261683,-0.4468220033479351,-0.1001948193464608,-0.668321764140683,-0.44336219741838334,0.49696659373788893,0.28056509163788307,0.2681418963433082,0.9956084144572299,1.0,-0.12803939754002427,0.023044791968545114,0.02759056094412718],[0.23665473554166952,0.3191838329804173,0.3458668978661132,-0.15349980982497546,-0.013101579493269386,0.2567458163798541,0.13704511897483015,0.13708993166796546,0.2341602463972546,0.15539941693623974,0.05328906096668144,0.3296202502382761,0.2789096891621621,-0.1446653982069597,-0.08365009851554416,0.07597305342077436,-0.106487511161423,-0.12803939754002427,1.0,0.13704511897483018,0.10286421239747652],[0.09756850965979509,0.11278914447531957,0.18175834780175285,-0.08746776962692061,0.03460870872493781,0.10778597808745076,1.0,0.9999999416763469,0.08629380788477654,0.07459067346139386,-0.021573064752847846,0.22688123333484939,0.17404322207890283,-0.146362107637288,-0.1011068500022092,0.10486582161382825,0.036940843848342224,0.023044791968545114,0.13704511897483018,1.0,0.9994073018791768],[0.08975105038260991,0.10216707208734212,0.17049657329925033,-0.08249802216343897,0.0352083361893551,0.0993129122764331,0.9994073018791768,0.9994056859647017,0.07851602314285547,0.06950121334500553,-0.023514944808997844,0.2163722284359449,0.16507619809948124,-0.14194496316228908,-0.09862142028040102,0.10266286216637792,0.0407955793175624,0.02759056094412718,0.10286421239747652,0.9994073018791768,1.0]],\"type\":\"heatmap\"}],                        {\"title\":{\"text\":\"Correlation Matrix Heatmap\"},\"xaxis\":{\"title\":{\"text\":\"Variables\"}},\"yaxis\":{\"title\":{\"text\":\"Variables\"}},\"template\":{\"data\":{\"histogram2dcontour\":[{\"type\":\"histogram2dcontour\",\"colorbar\":{\"outlinewidth\":0,\"ticks\":\"\"},\"colorscale\":[[0.0,\"#0d0887\"],[0.1111111111111111,\"#46039f\"],[0.2222222222222222,\"#7201a8\"],[0.3333333333333333,\"#9c179e\"],[0.4444444444444444,\"#bd3786\"],[0.5555555555555556,\"#d8576b\"],[0.6666666666666666,\"#ed7953\"],[0.7777777777777778,\"#fb9f3a\"],[0.8888888888888888,\"#fdca26\"],[1.0,\"#f0f921\"]]}],\"choropleth\":[{\"type\":\"choropleth\",\"colorbar\":{\"outlinewidth\":0,\"ticks\":\"\"}}],\"histogram2d\":[{\"type\":\"histogram2d\",\"colorbar\":{\"outlinewidth\":0,\"ticks\":\"\"},\"colorscale\":[[0.0,\"#0d0887\"],[0.1111111111111111,\"#46039f\"],[0.2222222222222222,\"#7201a8\"],[0.3333333333333333,\"#9c179e\"],[0.4444444444444444,\"#bd3786\"],[0.5555555555555556,\"#d8576b\"],[0.6666666666666666,\"#ed7953\"],[0.7777777777777778,\"#fb9f3a\"],[0.8888888888888888,\"#fdca26\"],[1.0,\"#f0f921\"]]}],\"heatmap\":[{\"type\":\"heatmap\",\"colorbar\":{\"outlinewidth\":0,\"ticks\":\"\"},\"colorscale\":[[0.0,\"#0d0887\"],[0.1111111111111111,\"#46039f\"],[0.2222222222222222,\"#7201a8\"],[0.3333333333333333,\"#9c179e\"],[0.4444444444444444,\"#bd3786\"],[0.5555555555555556,\"#d8576b\"],[0.6666666666666666,\"#ed7953\"],[0.7777777777777778,\"#fb9f3a\"],[0.8888888888888888,\"#fdca26\"],[1.0,\"#f0f921\"]]}],\"heatmapgl\":[{\"type\":\"heatmapgl\",\"colorbar\":{\"outlinewidth\":0,\"ticks\":\"\"},\"colorscale\":[[0.0,\"#0d0887\"],[0.1111111111111111,\"#46039f\"],[0.2222222222222222,\"#7201a8\"],[0.3333333333333333,\"#9c179e\"],[0.4444444444444444,\"#bd3786\"],[0.5555555555555556,\"#d8576b\"],[0.6666666666666666,\"#ed7953\"],[0.7777777777777778,\"#fb9f3a\"],[0.8888888888888888,\"#fdca26\"],[1.0,\"#f0f921\"]]}],\"contourcarpet\":[{\"type\":\"contourcarpet\",\"colorbar\":{\"outlinewidth\":0,\"ticks\":\"\"}}],\"contour\":[{\"type\":\"contour\",\"colorbar\":{\"outlinewidth\":0,\"ticks\":\"\"},\"colorscale\":[[0.0,\"#0d0887\"],[0.1111111111111111,\"#46039f\"],[0.2222222222222222,\"#7201a8\"],[0.3333333333333333,\"#9c179e\"],[0.4444444444444444,\"#bd3786\"],[0.5555555555555556,\"#d8576b\"],[0.6666666666666666,\"#ed7953\"],[0.7777777777777778,\"#fb9f3a\"],[0.8888888888888888,\"#fdca26\"],[1.0,\"#f0f921\"]]}],\"surface\":[{\"type\":\"surface\",\"colorbar\":{\"outlinewidth\":0,\"ticks\":\"\"},\"colorscale\":[[0.0,\"#0d0887\"],[0.1111111111111111,\"#46039f\"],[0.2222222222222222,\"#7201a8\"],[0.3333333333333333,\"#9c179e\"],[0.4444444444444444,\"#bd3786\"],[0.5555555555555556,\"#d8576b\"],[0.6666666666666666,\"#ed7953\"],[0.7777777777777778,\"#fb9f3a\"],[0.8888888888888888,\"#fdca26\"],[1.0,\"#f0f921\"]]}],\"mesh3d\":[{\"type\":\"mesh3d\",\"colorbar\":{\"outlinewidth\":0,\"ticks\":\"\"}}],\"scatter\":[{\"fillpattern\":{\"fillmode\":\"overlay\",\"size\":10,\"solidity\":0.2},\"type\":\"scatter\"}],\"parcoords\":[{\"type\":\"parcoords\",\"line\":{\"colorbar\":{\"outlinewidth\":0,\"ticks\":\"\"}}}],\"scatterpolargl\":[{\"type\":\"scatterpolargl\",\"marker\":{\"colorbar\":{\"outlinewidth\":0,\"ticks\":\"\"}}}],\"bar\":[{\"error_x\":{\"color\":\"#2a3f5f\"},\"error_y\":{\"color\":\"#2a3f5f\"},\"marker\":{\"line\":{\"color\":\"#E5ECF6\",\"width\":0.5},\"pattern\":{\"fillmode\":\"overlay\",\"size\":10,\"solidity\":0.2}},\"type\":\"bar\"}],\"scattergeo\":[{\"type\":\"scattergeo\",\"marker\":{\"colorbar\":{\"outlinewidth\":0,\"ticks\":\"\"}}}],\"scatterpolar\":[{\"type\":\"scatterpolar\",\"marker\":{\"colorbar\":{\"outlinewidth\":0,\"ticks\":\"\"}}}],\"histogram\":[{\"marker\":{\"pattern\":{\"fillmode\":\"overlay\",\"size\":10,\"solidity\":0.2}},\"type\":\"histogram\"}],\"scattergl\":[{\"type\":\"scattergl\",\"marker\":{\"colorbar\":{\"outlinewidth\":0,\"ticks\":\"\"}}}],\"scatter3d\":[{\"type\":\"scatter3d\",\"line\":{\"colorbar\":{\"outlinewidth\":0,\"ticks\":\"\"}},\"marker\":{\"colorbar\":{\"outlinewidth\":0,\"ticks\":\"\"}}}],\"scattermapbox\":[{\"type\":\"scattermapbox\",\"marker\":{\"colorbar\":{\"outlinewidth\":0,\"ticks\":\"\"}}}],\"scatterternary\":[{\"type\":\"scatterternary\",\"marker\":{\"colorbar\":{\"outlinewidth\":0,\"ticks\":\"\"}}}],\"scattercarpet\":[{\"type\":\"scattercarpet\",\"marker\":{\"colorbar\":{\"outlinewidth\":0,\"ticks\":\"\"}}}],\"carpet\":[{\"aaxis\":{\"endlinecolor\":\"#2a3f5f\",\"gridcolor\":\"white\",\"linecolor\":\"white\",\"minorgridcolor\":\"white\",\"startlinecolor\":\"#2a3f5f\"},\"baxis\":{\"endlinecolor\":\"#2a3f5f\",\"gridcolor\":\"white\",\"linecolor\":\"white\",\"minorgridcolor\":\"white\",\"startlinecolor\":\"#2a3f5f\"},\"type\":\"carpet\"}],\"table\":[{\"cells\":{\"fill\":{\"color\":\"#EBF0F8\"},\"line\":{\"color\":\"white\"}},\"header\":{\"fill\":{\"color\":\"#C8D4E3\"},\"line\":{\"color\":\"white\"}},\"type\":\"table\"}],\"barpolar\":[{\"marker\":{\"line\":{\"color\":\"#E5ECF6\",\"width\":0.5},\"pattern\":{\"fillmode\":\"overlay\",\"size\":10,\"solidity\":0.2}},\"type\":\"barpolar\"}],\"pie\":[{\"automargin\":true,\"type\":\"pie\"}]},\"layout\":{\"autotypenumbers\":\"strict\",\"colorway\":[\"#636efa\",\"#EF553B\",\"#00cc96\",\"#ab63fa\",\"#FFA15A\",\"#19d3f3\",\"#FF6692\",\"#B6E880\",\"#FF97FF\",\"#FECB52\"],\"font\":{\"color\":\"#2a3f5f\"},\"hovermode\":\"closest\",\"hoverlabel\":{\"align\":\"left\"},\"paper_bgcolor\":\"white\",\"plot_bgcolor\":\"#E5ECF6\",\"polar\":{\"bgcolor\":\"#E5ECF6\",\"angularaxis\":{\"gridcolor\":\"white\",\"linecolor\":\"white\",\"ticks\":\"\"},\"radialaxis\":{\"gridcolor\":\"white\",\"linecolor\":\"white\",\"ticks\":\"\"}},\"ternary\":{\"bgcolor\":\"#E5ECF6\",\"aaxis\":{\"gridcolor\":\"white\",\"linecolor\":\"white\",\"ticks\":\"\"},\"baxis\":{\"gridcolor\":\"white\",\"linecolor\":\"white\",\"ticks\":\"\"},\"caxis\":{\"gridcolor\":\"white\",\"linecolor\":\"white\",\"ticks\":\"\"}},\"coloraxis\":{\"colorbar\":{\"outlinewidth\":0,\"ticks\":\"\"}},\"colorscale\":{\"sequential\":[[0.0,\"#0d0887\"],[0.1111111111111111,\"#46039f\"],[0.2222222222222222,\"#7201a8\"],[0.3333333333333333,\"#9c179e\"],[0.4444444444444444,\"#bd3786\"],[0.5555555555555556,\"#d8576b\"],[0.6666666666666666,\"#ed7953\"],[0.7777777777777778,\"#fb9f3a\"],[0.8888888888888888,\"#fdca26\"],[1.0,\"#f0f921\"]],\"sequentialminus\":[[0.0,\"#0d0887\"],[0.1111111111111111,\"#46039f\"],[0.2222222222222222,\"#7201a8\"],[0.3333333333333333,\"#9c179e\"],[0.4444444444444444,\"#bd3786\"],[0.5555555555555556,\"#d8576b\"],[0.6666666666666666,\"#ed7953\"],[0.7777777777777778,\"#fb9f3a\"],[0.8888888888888888,\"#fdca26\"],[1.0,\"#f0f921\"]],\"diverging\":[[0,\"#8e0152\"],[0.1,\"#c51b7d\"],[0.2,\"#de77ae\"],[0.3,\"#f1b6da\"],[0.4,\"#fde0ef\"],[0.5,\"#f7f7f7\"],[0.6,\"#e6f5d0\"],[0.7,\"#b8e186\"],[0.8,\"#7fbc41\"],[0.9,\"#4d9221\"],[1,\"#276419\"]]},\"xaxis\":{\"gridcolor\":\"white\",\"linecolor\":\"white\",\"ticks\":\"\",\"title\":{\"standoff\":15},\"zerolinecolor\":\"white\",\"automargin\":true,\"zerolinewidth\":2},\"yaxis\":{\"gridcolor\":\"white\",\"linecolor\":\"white\",\"ticks\":\"\",\"title\":{\"standoff\":15},\"zerolinecolor\":\"white\",\"automargin\":true,\"zerolinewidth\":2},\"scene\":{\"xaxis\":{\"backgroundcolor\":\"#E5ECF6\",\"gridcolor\":\"white\",\"linecolor\":\"white\",\"showbackground\":true,\"ticks\":\"\",\"zerolinecolor\":\"white\",\"gridwidth\":2},\"yaxis\":{\"backgroundcolor\":\"#E5ECF6\",\"gridcolor\":\"white\",\"linecolor\":\"white\",\"showbackground\":true,\"ticks\":\"\",\"zerolinecolor\":\"white\",\"gridwidth\":2},\"zaxis\":{\"backgroundcolor\":\"#E5ECF6\",\"gridcolor\":\"white\",\"linecolor\":\"white\",\"showbackground\":true,\"ticks\":\"\",\"zerolinecolor\":\"white\",\"gridwidth\":2}},\"shapedefaults\":{\"line\":{\"color\":\"#2a3f5f\"}},\"annotationdefaults\":{\"arrowcolor\":\"#2a3f5f\",\"arrowhead\":0,\"arrowwidth\":1},\"geo\":{\"bgcolor\":\"white\",\"landcolor\":\"#E5ECF6\",\"subunitcolor\":\"white\",\"showland\":true,\"showlakes\":true,\"lakecolor\":\"white\"},\"title\":{\"x\":0.05},\"mapbox\":{\"style\":\"light\"}}}},                        {\"responsive\": true}                    ).then(function(){\n",
       "                            \n",
       "var gd = document.getElementById('abbde07e-8011-4652-96cb-4f5e1476f66c');\n",
       "var x = new MutationObserver(function (mutations, observer) {{\n",
       "        var display = window.getComputedStyle(gd).display;\n",
       "        if (!display || display === 'none') {{\n",
       "            console.log([gd, 'removed!']);\n",
       "            Plotly.purge(gd);\n",
       "            observer.disconnect();\n",
       "        }}\n",
       "}});\n",
       "\n",
       "// Listen for the removal of the full notebook cells\n",
       "var notebookContainer = gd.closest('#notebook-container');\n",
       "if (notebookContainer) {{\n",
       "    x.observe(notebookContainer, {childList: true});\n",
       "}}\n",
       "\n",
       "// Listen for the clearing of the current output cell\n",
       "var outputEl = gd.closest('.output');\n",
       "if (outputEl) {{\n",
       "    x.observe(outputEl, {childList: true});\n",
       "}}\n",
       "\n",
       "                        })                };                });            </script>        </div>"
      ]
     },
     "metadata": {},
     "output_type": "display_data"
    }
   ],
   "source": [
    "heatmap = go.Heatmap(\n",
    "    z=corr_matrix.values,\n",
    "    x=corr_matrix.columns,\n",
    "    y=corr_matrix.columns,\n",
    "    colorscale='RdBu',\n",
    ")\n",
    "\n",
    "# Specify the layout of the plot\n",
    "layout = go.Layout(\n",
    "    title='Correlation Matrix Heatmap',\n",
    "    xaxis=dict(title='Variables'),\n",
    "    yaxis=dict(title='Variables'),\n",
    ")\n",
    "\n",
    "# Create a figure object\n",
    "figure = go.Figure(data=[heatmap], layout=layout)\n",
    "\n",
    "# Show the plot\n",
    "figure.show()\n"
   ]
  },
  {
   "cell_type": "markdown",
   "id": "990c4a14",
   "metadata": {},
   "source": [
    "## Comment\n",
    "The correlation matrix provided shows the correlation coefficients between the variables in the dataset.\n",
    "\n",
    "A correlation coefficient is a measure of the strength and direction of the linear relationship between two variables. The values range from -1 to 1, where -1 indicates a perfect negative correlation, 0 indicates no correlation, and 1 indicates a perfect positive correlation.\n",
    "\n",
    "Looking at the matrix, we can see that price_usd has a strong positive correlation with hash_rate, year, total_fee, mean_fee_satoshi, and mean_feeUSD. This means that as these variables increase, the price of bitcoin also tends to increase. On the other hand, there is a weak negative correlation between price_usd and month, meaning that as the month increases, the price of bitcoin tends to decrease slightly.\n",
    "\n",
    "So in the late year the price of bitcoin tends to dip, but from year to year to price tends to increase. Of course this is limited the relatively short time frame between 2015-01-02 2015 and 2017-06-30 so the sample size for years is 3 and for months it's 30, not large enough to be conclusive.\n",
    "\n",
    "Overall, the correlation matrix provides insights into the relationships between variables in the dataset, and can help identify potential areas of further investigation."
   ]
  },
  {
   "cell_type": "markdown",
   "id": "6c8fbdfd",
   "metadata": {},
   "source": [
    "### Volatility\n",
    "Now lets look at how volatile BTC, knowing that cryptocurrently are notoriously volatile assets, it would be interesting to see how it compares to other assets such as gold or an S&P500 stock.\n",
    "\n",
    "To study the volatility of the price of Bitcoin in the provided DataFrame, we can calculate the daily percentage change in the price and then calculate the standard deviation of those changes. This will give us a measure of the volatility of the price of Bitcoin over time."
   ]
  },
  {
   "cell_type": "code",
   "execution_count": 50,
   "id": "45543be5",
   "metadata": {},
   "outputs": [
    {
     "name": "stdout",
     "output_type": "stream",
     "text": [
      "BTC volatility: 3.36%\n"
     ]
    }
   ],
   "source": [
    "df['pct_change'] = df['price_usd'].pct_change()\n",
    "\n",
    "\n",
    "# calculate the standard deviation of the daily percentage changes\n",
    "volatility = df['pct_change'].std()\n",
    "\n",
    "print(\"BTC volatility: {:.2f}%\".format(volatility * 100))\n"
   ]
  },
  {
   "cell_type": "markdown",
   "id": "7cf010bd",
   "metadata": {},
   "source": [
    "Volatility of our btc is around 3% daily, which is quite high, lets compare with gold.\n",
    "Here we use a database and the closing price as a "
   ]
  },
  {
   "cell_type": "code",
   "execution_count": 48,
   "id": "a230ee60",
   "metadata": {},
   "outputs": [
    {
     "name": "stdout",
     "output_type": "stream",
     "text": [
      "Gold volatility: 1.10%\n"
     ]
    }
   ],
   "source": [
    "# load the gold price data\n",
    "gold_df = pd.read_csv('timeseries/gold.csv', parse_dates=['Date'])\n",
    "\n",
    "# calculate daily returns\n",
    "gold_df['Daily_Returns'] = gold_df['Close'].pct_change()\n",
    "\n",
    "# calculate the annualized volatility\n",
    "#gold_volatility = np.std(gold_df['Daily_Returns']) * np.sqrt(252)\n",
    "\n",
    "gold_volatility = gold_df['Daily_Returns'].std()\n",
    "\n",
    "print(\"Gold volatility: {:.2f}%\".format(gold_volatility * 100))\n",
    "\n"
   ]
  },
  {
   "cell_type": "markdown",
   "id": "ed579a02",
   "metadata": {},
   "source": [
    "We therefore have a higher volality for BTC (2015-2017) than for Gold (over the past 20 years), so that's considering the recent inflation aswell."
   ]
  },
  {
   "cell_type": "code",
   "execution_count": null,
   "id": "68bc92a6",
   "metadata": {},
   "outputs": [],
   "source": []
  }
 ],
 "metadata": {
  "kernelspec": {
   "display_name": "Python 3 (ipykernel)",
   "language": "python",
   "name": "python3"
  },
  "language_info": {
   "codemirror_mode": {
    "name": "ipython",
    "version": 3
   },
   "file_extension": ".py",
   "mimetype": "text/x-python",
   "name": "python",
   "nbconvert_exporter": "python",
   "pygments_lexer": "ipython3",
   "version": "3.10.6"
  }
 },
 "nbformat": 4,
 "nbformat_minor": 5
}
